{
 "cells": [
  {
   "cell_type": "markdown",
   "id": "885abf02",
   "metadata": {},
   "source": [
    "# Exploratory analysis of the sample data\n",
    "Initialize Weights&Biases, retrieve the latest sample csv file and perform standard data analysis including pandas profiling. "
   ]
  },
  {
   "cell_type": "code",
   "execution_count": 121,
   "id": "891e40ca",
   "metadata": {
    "scrolled": true
   },
   "outputs": [
    {
     "data": {
      "text/html": [
       "Finishing last run (ID:v2jopb3p) before initializing another..."
      ],
      "text/plain": [
       "<IPython.core.display.HTML object>"
      ]
     },
     "metadata": {},
     "output_type": "display_data"
    },
    {
     "data": {
      "text/html": [
       "<br/>Waiting for W&B process to finish, PID 90154<br/>Program ended successfully."
      ],
      "text/plain": [
       "<IPython.core.display.HTML object>"
      ]
     },
     "metadata": {},
     "output_type": "display_data"
    },
    {
     "data": {
      "application/vnd.jupyter.widget-view+json": {
       "model_id": "",
       "version_major": 2,
       "version_minor": 0
      },
      "text/plain": [
       "VBox(children=(Label(value=' 6.92MB of 6.92MB uploaded (0.00MB deduped)\\r'), FloatProgress(value=1.0, max=1.0)…"
      ]
     },
     "metadata": {},
     "output_type": "display_data"
    },
    {
     "data": {
      "text/html": [
       "Find user logs for this run at: <code>/Users/oliver/Development/nd0821-c2-build-model-workflow-starter/src/eda/wandb/run-20220124_192957-v2jopb3p/logs/debug.log</code>"
      ],
      "text/plain": [
       "<IPython.core.display.HTML object>"
      ]
     },
     "metadata": {},
     "output_type": "display_data"
    },
    {
     "data": {
      "text/html": [
       "Find internal logs for this run at: <code>/Users/oliver/Development/nd0821-c2-build-model-workflow-starter/src/eda/wandb/run-20220124_192957-v2jopb3p/logs/debug-internal.log</code>"
      ],
      "text/plain": [
       "<IPython.core.display.HTML object>"
      ]
     },
     "metadata": {},
     "output_type": "display_data"
    },
    {
     "data": {
      "text/html": [
       "Synced 7 W&B file(s), 0 media file(s), 34 artifact file(s) and 1 other file(s)"
      ],
      "text/plain": [
       "<IPython.core.display.HTML object>"
      ]
     },
     "metadata": {},
     "output_type": "display_data"
    },
    {
     "data": {
      "text/html": [
       "\n",
       "                    <br/>Synced <strong style=\"color:#cdcd00\">vital-energy-175</strong>: <a href=\"https://wandb.ai/kangaroo98/nyc_airbnb/runs/v2jopb3p\" target=\"_blank\">https://wandb.ai/kangaroo98/nyc_airbnb/runs/v2jopb3p</a><br/>\n",
       "                "
      ],
      "text/plain": [
       "<IPython.core.display.HTML object>"
      ]
     },
     "metadata": {},
     "output_type": "display_data"
    },
    {
     "data": {
      "text/html": [
       "...Successfully finished last run (ID:v2jopb3p). Initializing new run:<br/><br/>"
      ],
      "text/plain": [
       "<IPython.core.display.HTML object>"
      ]
     },
     "metadata": {},
     "output_type": "display_data"
    },
    {
     "name": "stderr",
     "output_type": "stream",
     "text": [
      "\u001b[34m\u001b[1mwandb\u001b[0m: wandb version 0.12.9 is available!  To upgrade, please run:\n",
      "\u001b[34m\u001b[1mwandb\u001b[0m:  $ pip install wandb --upgrade\n"
     ]
    },
    {
     "data": {
      "text/html": [
       "\n",
       "                Tracking run with wandb version 0.10.31<br/>\n",
       "                Syncing run <strong style=\"color:#cdcd00\">quiet-valley-176</strong> to <a href=\"https://wandb.ai\" target=\"_blank\">Weights & Biases</a> <a href=\"https://docs.wandb.com/integrations/jupyter.html\" target=\"_blank\">(Documentation)</a>.<br/>\n",
       "                Project page: <a href=\"https://wandb.ai/kangaroo98/nyc_airbnb\" target=\"_blank\">https://wandb.ai/kangaroo98/nyc_airbnb</a><br/>\n",
       "                Run page: <a href=\"https://wandb.ai/kangaroo98/nyc_airbnb/runs/3jz6re27\" target=\"_blank\">https://wandb.ai/kangaroo98/nyc_airbnb/runs/3jz6re27</a><br/>\n",
       "                Run data is saved locally in <code>/Users/oliver/Development/nd0821-c2-build-model-workflow-starter/src/eda/wandb/run-20220124_210646-3jz6re27</code><br/><br/>\n",
       "            "
      ],
      "text/plain": [
       "<IPython.core.display.HTML object>"
      ]
     },
     "metadata": {},
     "output_type": "display_data"
    }
   ],
   "source": [
    "import wandb\n",
    "import pandas as pd\n",
    "import pandas_profiling\n",
    "import seaborn as sns\n",
    "sns.set()\n",
    "\n",
    "run = wandb.init(project=\"nyc_airbnb\", group=\"eda\", save_code=True)"
   ]
  },
  {
   "cell_type": "code",
   "execution_count": 122,
   "id": "7d005236",
   "metadata": {},
   "outputs": [],
   "source": [
    "# get latest version of the sample data and generate standard reports\n",
    "local_path = wandb.use_artifact(\"sample.csv:latest\").file()\n",
    "df = pd.read_csv(local_path)"
   ]
  },
  {
   "cell_type": "code",
   "execution_count": 123,
   "id": "d6217b4b",
   "metadata": {
    "scrolled": true
   },
   "outputs": [
    {
     "data": {
      "text/html": [
       "<div>\n",
       "<style scoped>\n",
       "    .dataframe tbody tr th:only-of-type {\n",
       "        vertical-align: middle;\n",
       "    }\n",
       "\n",
       "    .dataframe tbody tr th {\n",
       "        vertical-align: top;\n",
       "    }\n",
       "\n",
       "    .dataframe thead th {\n",
       "        text-align: right;\n",
       "    }\n",
       "</style>\n",
       "<table border=\"1\" class=\"dataframe\">\n",
       "  <thead>\n",
       "    <tr style=\"text-align: right;\">\n",
       "      <th></th>\n",
       "      <th>id</th>\n",
       "      <th>host_id</th>\n",
       "      <th>latitude</th>\n",
       "      <th>longitude</th>\n",
       "      <th>price</th>\n",
       "      <th>minimum_nights</th>\n",
       "      <th>number_of_reviews</th>\n",
       "      <th>reviews_per_month</th>\n",
       "      <th>calculated_host_listings_count</th>\n",
       "      <th>availability_365</th>\n",
       "    </tr>\n",
       "  </thead>\n",
       "  <tbody>\n",
       "    <tr>\n",
       "      <th>count</th>\n",
       "      <td>2.000000e+04</td>\n",
       "      <td>2.000000e+04</td>\n",
       "      <td>20000.000000</td>\n",
       "      <td>20000.000000</td>\n",
       "      <td>20000.000000</td>\n",
       "      <td>20000.000000</td>\n",
       "      <td>20000.000000</td>\n",
       "      <td>15877.000000</td>\n",
       "      <td>20000.000000</td>\n",
       "      <td>20000.000000</td>\n",
       "    </tr>\n",
       "    <tr>\n",
       "      <th>mean</th>\n",
       "      <td>1.892380e+07</td>\n",
       "      <td>6.746034e+07</td>\n",
       "      <td>40.728455</td>\n",
       "      <td>-73.952125</td>\n",
       "      <td>153.269050</td>\n",
       "      <td>6.992100</td>\n",
       "      <td>23.274100</td>\n",
       "      <td>1.377446</td>\n",
       "      <td>6.955450</td>\n",
       "      <td>112.901200</td>\n",
       "    </tr>\n",
       "    <tr>\n",
       "      <th>std</th>\n",
       "      <td>1.101223e+07</td>\n",
       "      <td>7.857936e+07</td>\n",
       "      <td>0.054755</td>\n",
       "      <td>0.046559</td>\n",
       "      <td>243.325609</td>\n",
       "      <td>21.645449</td>\n",
       "      <td>44.927793</td>\n",
       "      <td>1.683006</td>\n",
       "      <td>32.433831</td>\n",
       "      <td>131.762226</td>\n",
       "    </tr>\n",
       "    <tr>\n",
       "      <th>min</th>\n",
       "      <td>2.539000e+03</td>\n",
       "      <td>2.571000e+03</td>\n",
       "      <td>40.508730</td>\n",
       "      <td>-74.239140</td>\n",
       "      <td>0.000000</td>\n",
       "      <td>1.000000</td>\n",
       "      <td>0.000000</td>\n",
       "      <td>0.010000</td>\n",
       "      <td>1.000000</td>\n",
       "      <td>0.000000</td>\n",
       "    </tr>\n",
       "    <tr>\n",
       "      <th>25%</th>\n",
       "      <td>9.393540e+06</td>\n",
       "      <td>7.853718e+06</td>\n",
       "      <td>40.689420</td>\n",
       "      <td>-73.983030</td>\n",
       "      <td>69.000000</td>\n",
       "      <td>1.000000</td>\n",
       "      <td>1.000000</td>\n",
       "      <td>0.190000</td>\n",
       "      <td>1.000000</td>\n",
       "      <td>0.000000</td>\n",
       "    </tr>\n",
       "    <tr>\n",
       "      <th>50%</th>\n",
       "      <td>1.952117e+07</td>\n",
       "      <td>3.111431e+07</td>\n",
       "      <td>40.722730</td>\n",
       "      <td>-73.955640</td>\n",
       "      <td>105.000000</td>\n",
       "      <td>2.000000</td>\n",
       "      <td>5.000000</td>\n",
       "      <td>0.720000</td>\n",
       "      <td>1.000000</td>\n",
       "      <td>44.000000</td>\n",
       "    </tr>\n",
       "    <tr>\n",
       "      <th>75%</th>\n",
       "      <td>2.912936e+07</td>\n",
       "      <td>1.068426e+08</td>\n",
       "      <td>40.762990</td>\n",
       "      <td>-73.936380</td>\n",
       "      <td>175.000000</td>\n",
       "      <td>5.000000</td>\n",
       "      <td>23.000000</td>\n",
       "      <td>2.010000</td>\n",
       "      <td>2.000000</td>\n",
       "      <td>229.000000</td>\n",
       "    </tr>\n",
       "    <tr>\n",
       "      <th>max</th>\n",
       "      <td>3.648561e+07</td>\n",
       "      <td>2.742733e+08</td>\n",
       "      <td>40.913060</td>\n",
       "      <td>-73.717950</td>\n",
       "      <td>10000.000000</td>\n",
       "      <td>1250.000000</td>\n",
       "      <td>607.000000</td>\n",
       "      <td>27.950000</td>\n",
       "      <td>327.000000</td>\n",
       "      <td>365.000000</td>\n",
       "    </tr>\n",
       "  </tbody>\n",
       "</table>\n",
       "</div>"
      ],
      "text/plain": [
       "                 id       host_id      latitude     longitude         price  \\\n",
       "count  2.000000e+04  2.000000e+04  20000.000000  20000.000000  20000.000000   \n",
       "mean   1.892380e+07  6.746034e+07     40.728455    -73.952125    153.269050   \n",
       "std    1.101223e+07  7.857936e+07      0.054755      0.046559    243.325609   \n",
       "min    2.539000e+03  2.571000e+03     40.508730    -74.239140      0.000000   \n",
       "25%    9.393540e+06  7.853718e+06     40.689420    -73.983030     69.000000   \n",
       "50%    1.952117e+07  3.111431e+07     40.722730    -73.955640    105.000000   \n",
       "75%    2.912936e+07  1.068426e+08     40.762990    -73.936380    175.000000   \n",
       "max    3.648561e+07  2.742733e+08     40.913060    -73.717950  10000.000000   \n",
       "\n",
       "       minimum_nights  number_of_reviews  reviews_per_month  \\\n",
       "count    20000.000000       20000.000000       15877.000000   \n",
       "mean         6.992100          23.274100           1.377446   \n",
       "std         21.645449          44.927793           1.683006   \n",
       "min          1.000000           0.000000           0.010000   \n",
       "25%          1.000000           1.000000           0.190000   \n",
       "50%          2.000000           5.000000           0.720000   \n",
       "75%          5.000000          23.000000           2.010000   \n",
       "max       1250.000000         607.000000          27.950000   \n",
       "\n",
       "       calculated_host_listings_count  availability_365  \n",
       "count                    20000.000000      20000.000000  \n",
       "mean                         6.955450        112.901200  \n",
       "std                         32.433831        131.762226  \n",
       "min                          1.000000          0.000000  \n",
       "25%                          1.000000          0.000000  \n",
       "50%                          1.000000         44.000000  \n",
       "75%                          2.000000        229.000000  \n",
       "max                        327.000000        365.000000  "
      ]
     },
     "execution_count": 123,
     "metadata": {},
     "output_type": "execute_result"
    }
   ],
   "source": [
    "# Standard EDA checks incl. Pandas Profiling\n",
    "df.describe()"
   ]
  },
  {
   "cell_type": "code",
   "execution_count": 124,
   "id": "28bd5c17",
   "metadata": {
    "scrolled": true
   },
   "outputs": [
    {
     "name": "stdout",
     "output_type": "stream",
     "text": [
      "<class 'pandas.core.frame.DataFrame'>\n",
      "RangeIndex: 20000 entries, 0 to 19999\n",
      "Data columns (total 16 columns):\n",
      " #   Column                          Non-Null Count  Dtype  \n",
      "---  ------                          --------------  -----  \n",
      " 0   id                              20000 non-null  int64  \n",
      " 1   name                            19993 non-null  object \n",
      " 2   host_id                         20000 non-null  int64  \n",
      " 3   host_name                       19992 non-null  object \n",
      " 4   neighbourhood_group             20000 non-null  object \n",
      " 5   neighbourhood                   20000 non-null  object \n",
      " 6   latitude                        20000 non-null  float64\n",
      " 7   longitude                       20000 non-null  float64\n",
      " 8   room_type                       20000 non-null  object \n",
      " 9   price                           20000 non-null  int64  \n",
      " 10  minimum_nights                  20000 non-null  int64  \n",
      " 11  number_of_reviews               20000 non-null  int64  \n",
      " 12  last_review                     15877 non-null  object \n",
      " 13  reviews_per_month               15877 non-null  float64\n",
      " 14  calculated_host_listings_count  20000 non-null  int64  \n",
      " 15  availability_365                20000 non-null  int64  \n",
      "dtypes: float64(3), int64(7), object(6)\n",
      "memory usage: 2.4+ MB\n"
     ]
    }
   ],
   "source": [
    "df.info()"
   ]
  },
  {
   "cell_type": "code",
   "execution_count": 125,
   "id": "3ceaa594",
   "metadata": {
    "scrolled": false
   },
   "outputs": [
    {
     "data": {
      "application/vnd.jupyter.widget-view+json": {
       "model_id": "34a308315ff74f218a4c109b49f65166",
       "version_major": 2,
       "version_minor": 0
      },
      "text/plain": [
       "Summarize dataset:   0%|          | 0/29 [00:00<?, ?it/s]"
      ]
     },
     "metadata": {},
     "output_type": "display_data"
    },
    {
     "data": {
      "application/vnd.jupyter.widget-view+json": {
       "model_id": "795fa94b2df14be7993959654b5a6c83",
       "version_major": 2,
       "version_minor": 0
      },
      "text/plain": [
       "Generate report structure:   0%|          | 0/1 [00:00<?, ?it/s]"
      ]
     },
     "metadata": {},
     "output_type": "display_data"
    },
    {
     "data": {
      "application/vnd.jupyter.widget-view+json": {
       "model_id": "",
       "version_major": 2,
       "version_minor": 0
      },
      "text/plain": [
       "Render widgets:   0%|          | 0/1 [00:00<?, ?it/s]"
      ]
     },
     "metadata": {},
     "output_type": "display_data"
    },
    {
     "data": {
      "application/vnd.jupyter.widget-view+json": {
       "model_id": "d39ab8c8ef7e4630a583614b7933718b",
       "version_major": 2,
       "version_minor": 0
      },
      "text/plain": [
       "VBox(children=(Tab(children=(Tab(children=(GridBox(children=(VBox(children=(GridspecLayout(children=(HTML(valu…"
      ]
     },
     "metadata": {},
     "output_type": "display_data"
    }
   ],
   "source": [
    "profile = pandas_profiling.ProfileReport(df)\n",
    "profile.to_widgets()"
   ]
  },
  {
   "cell_type": "markdown",
   "id": "e1d14949",
   "metadata": {},
   "source": [
    "# Perform data cleaning:\n",
    "1. drop the outliers in the price column by applying a range\n",
    "2. correct the data type for the last_review column"
   ]
  },
  {
   "cell_type": "code",
   "execution_count": 126,
   "id": "8880aaab",
   "metadata": {},
   "outputs": [],
   "source": [
    "# Drop outliers price\n",
    "min_price = 10\n",
    "max_price = 350"
   ]
  },
  {
   "cell_type": "code",
   "execution_count": 127,
   "id": "36b02f4a",
   "metadata": {},
   "outputs": [
    {
     "data": {
      "text/html": [
       "<div>\n",
       "<style scoped>\n",
       "    .dataframe tbody tr th:only-of-type {\n",
       "        vertical-align: middle;\n",
       "    }\n",
       "\n",
       "    .dataframe tbody tr th {\n",
       "        vertical-align: top;\n",
       "    }\n",
       "\n",
       "    .dataframe thead th {\n",
       "        text-align: right;\n",
       "    }\n",
       "</style>\n",
       "<table border=\"1\" class=\"dataframe\">\n",
       "  <thead>\n",
       "    <tr style=\"text-align: right;\">\n",
       "      <th></th>\n",
       "      <th>id</th>\n",
       "      <th>name</th>\n",
       "      <th>host_id</th>\n",
       "      <th>host_name</th>\n",
       "      <th>neighbourhood_group</th>\n",
       "      <th>neighbourhood</th>\n",
       "      <th>latitude</th>\n",
       "      <th>longitude</th>\n",
       "      <th>room_type</th>\n",
       "      <th>price</th>\n",
       "      <th>minimum_nights</th>\n",
       "      <th>number_of_reviews</th>\n",
       "      <th>last_review</th>\n",
       "      <th>reviews_per_month</th>\n",
       "      <th>calculated_host_listings_count</th>\n",
       "      <th>availability_365</th>\n",
       "    </tr>\n",
       "  </thead>\n",
       "  <tbody>\n",
       "    <tr>\n",
       "      <th>82</th>\n",
       "      <td>1861281</td>\n",
       "      <td>Carol</td>\n",
       "      <td>9709464</td>\n",
       "      <td>Jessica</td>\n",
       "      <td>Manhattan</td>\n",
       "      <td>East Village</td>\n",
       "      <td>40.72898</td>\n",
       "      <td>-73.98051</td>\n",
       "      <td>Private room</td>\n",
       "      <td>1700</td>\n",
       "      <td>1</td>\n",
       "      <td>0</td>\n",
       "      <td>NaN</td>\n",
       "      <td>NaN</td>\n",
       "      <td>1</td>\n",
       "      <td>0</td>\n",
       "    </tr>\n",
       "    <tr>\n",
       "      <th>94</th>\n",
       "      <td>29424522</td>\n",
       "      <td>1-bed/ba  PR condo Wyn.  Midtown 45 Thanksgiving</td>\n",
       "      <td>30616847</td>\n",
       "      <td>Martha</td>\n",
       "      <td>Manhattan</td>\n",
       "      <td>Midtown</td>\n",
       "      <td>40.75322</td>\n",
       "      <td>-73.97353</td>\n",
       "      <td>Private room</td>\n",
       "      <td>500</td>\n",
       "      <td>3</td>\n",
       "      <td>0</td>\n",
       "      <td>NaN</td>\n",
       "      <td>NaN</td>\n",
       "      <td>1</td>\n",
       "      <td>365</td>\n",
       "    </tr>\n",
       "    <tr>\n",
       "      <th>112</th>\n",
       "      <td>24618542</td>\n",
       "      <td>New Condo 2 bedrms /1,5bath elevator &amp; balcony</td>\n",
       "      <td>55149412</td>\n",
       "      <td>Ha</td>\n",
       "      <td>Manhattan</td>\n",
       "      <td>Chinatown</td>\n",
       "      <td>40.71409</td>\n",
       "      <td>-73.99434</td>\n",
       "      <td>Entire home/apt</td>\n",
       "      <td>400</td>\n",
       "      <td>1</td>\n",
       "      <td>2</td>\n",
       "      <td>2018-10-07</td>\n",
       "      <td>0.20</td>\n",
       "      <td>4</td>\n",
       "      <td>191</td>\n",
       "    </tr>\n",
       "    <tr>\n",
       "      <th>136</th>\n",
       "      <td>9919042</td>\n",
       "      <td>East Village Two Bedroom</td>\n",
       "      <td>50997070</td>\n",
       "      <td>Panayiota</td>\n",
       "      <td>Manhattan</td>\n",
       "      <td>East Village</td>\n",
       "      <td>40.72964</td>\n",
       "      <td>-73.98095</td>\n",
       "      <td>Entire home/apt</td>\n",
       "      <td>380</td>\n",
       "      <td>1</td>\n",
       "      <td>0</td>\n",
       "      <td>NaN</td>\n",
       "      <td>NaN</td>\n",
       "      <td>1</td>\n",
       "      <td>0</td>\n",
       "    </tr>\n",
       "    <tr>\n",
       "      <th>147</th>\n",
       "      <td>9920363</td>\n",
       "      <td>Convenient Ridgewood Brownstone</td>\n",
       "      <td>50997424</td>\n",
       "      <td>Mark</td>\n",
       "      <td>Queens</td>\n",
       "      <td>Ridgewood</td>\n",
       "      <td>40.70422</td>\n",
       "      <td>-73.89840</td>\n",
       "      <td>Entire home/apt</td>\n",
       "      <td>375</td>\n",
       "      <td>4</td>\n",
       "      <td>5</td>\n",
       "      <td>2019-05-17</td>\n",
       "      <td>0.13</td>\n",
       "      <td>2</td>\n",
       "      <td>364</td>\n",
       "    </tr>\n",
       "    <tr>\n",
       "      <th>...</th>\n",
       "      <td>...</td>\n",
       "      <td>...</td>\n",
       "      <td>...</td>\n",
       "      <td>...</td>\n",
       "      <td>...</td>\n",
       "      <td>...</td>\n",
       "      <td>...</td>\n",
       "      <td>...</td>\n",
       "      <td>...</td>\n",
       "      <td>...</td>\n",
       "      <td>...</td>\n",
       "      <td>...</td>\n",
       "      <td>...</td>\n",
       "      <td>...</td>\n",
       "      <td>...</td>\n",
       "      <td>...</td>\n",
       "    </tr>\n",
       "    <tr>\n",
       "      <th>19934</th>\n",
       "      <td>31909623</td>\n",
       "      <td>Wyndham Midtown 45 New York City 1 BR Apt w/View</td>\n",
       "      <td>96086378</td>\n",
       "      <td>Ashley</td>\n",
       "      <td>Manhattan</td>\n",
       "      <td>Midtown</td>\n",
       "      <td>40.75342</td>\n",
       "      <td>-73.97135</td>\n",
       "      <td>Entire home/apt</td>\n",
       "      <td>699</td>\n",
       "      <td>1</td>\n",
       "      <td>1</td>\n",
       "      <td>2019-04-23</td>\n",
       "      <td>0.39</td>\n",
       "      <td>2</td>\n",
       "      <td>333</td>\n",
       "    </tr>\n",
       "    <tr>\n",
       "      <th>19943</th>\n",
       "      <td>28153873</td>\n",
       "      <td>Idyllic West Village Full 2 bedroom</td>\n",
       "      <td>3571431</td>\n",
       "      <td>Julianne</td>\n",
       "      <td>Manhattan</td>\n",
       "      <td>West Village</td>\n",
       "      <td>40.73281</td>\n",
       "      <td>-74.00688</td>\n",
       "      <td>Entire home/apt</td>\n",
       "      <td>375</td>\n",
       "      <td>4</td>\n",
       "      <td>5</td>\n",
       "      <td>2019-05-26</td>\n",
       "      <td>0.55</td>\n",
       "      <td>2</td>\n",
       "      <td>289</td>\n",
       "    </tr>\n",
       "    <tr>\n",
       "      <th>19968</th>\n",
       "      <td>36329299</td>\n",
       "      <td>Central Park European 2 Bedroom 2 bath duplex</td>\n",
       "      <td>6524294</td>\n",
       "      <td>Natascha</td>\n",
       "      <td>Manhattan</td>\n",
       "      <td>Upper East Side</td>\n",
       "      <td>40.78439</td>\n",
       "      <td>-73.95762</td>\n",
       "      <td>Entire home/apt</td>\n",
       "      <td>400</td>\n",
       "      <td>5</td>\n",
       "      <td>0</td>\n",
       "      <td>NaN</td>\n",
       "      <td>NaN</td>\n",
       "      <td>2</td>\n",
       "      <td>363</td>\n",
       "    </tr>\n",
       "    <tr>\n",
       "      <th>19981</th>\n",
       "      <td>34483432</td>\n",
       "      <td>Manhattan Accommodation Across Central Park</td>\n",
       "      <td>260425153</td>\n",
       "      <td>Park Lane</td>\n",
       "      <td>Manhattan</td>\n",
       "      <td>Midtown</td>\n",
       "      <td>40.76427</td>\n",
       "      <td>-73.97618</td>\n",
       "      <td>Private room</td>\n",
       "      <td>375</td>\n",
       "      <td>1</td>\n",
       "      <td>1</td>\n",
       "      <td>2019-06-30</td>\n",
       "      <td>1.00</td>\n",
       "      <td>14</td>\n",
       "      <td>349</td>\n",
       "    </tr>\n",
       "    <tr>\n",
       "      <th>19987</th>\n",
       "      <td>16087406</td>\n",
       "      <td>2 BDRM Presidential Reserve at Wyndham Midtown 45</td>\n",
       "      <td>69545883</td>\n",
       "      <td>Chayla</td>\n",
       "      <td>Manhattan</td>\n",
       "      <td>Midtown</td>\n",
       "      <td>40.75368</td>\n",
       "      <td>-73.97358</td>\n",
       "      <td>Private room</td>\n",
       "      <td>1599</td>\n",
       "      <td>3</td>\n",
       "      <td>2</td>\n",
       "      <td>2017-06-09</td>\n",
       "      <td>0.08</td>\n",
       "      <td>12</td>\n",
       "      <td>365</td>\n",
       "    </tr>\n",
       "  </tbody>\n",
       "</table>\n",
       "<p>999 rows × 16 columns</p>\n",
       "</div>"
      ],
      "text/plain": [
       "             id                                               name    host_id  \\\n",
       "82      1861281                                              Carol    9709464   \n",
       "94     29424522   1-bed/ba  PR condo Wyn.  Midtown 45 Thanksgiving   30616847   \n",
       "112    24618542     New Condo 2 bedrms /1,5bath elevator & balcony   55149412   \n",
       "136     9919042                           East Village Two Bedroom   50997070   \n",
       "147     9920363                    Convenient Ridgewood Brownstone   50997424   \n",
       "...         ...                                                ...        ...   \n",
       "19934  31909623   Wyndham Midtown 45 New York City 1 BR Apt w/View   96086378   \n",
       "19943  28153873                Idyllic West Village Full 2 bedroom    3571431   \n",
       "19968  36329299      Central Park European 2 Bedroom 2 bath duplex    6524294   \n",
       "19981  34483432        Manhattan Accommodation Across Central Park  260425153   \n",
       "19987  16087406  2 BDRM Presidential Reserve at Wyndham Midtown 45   69545883   \n",
       "\n",
       "       host_name neighbourhood_group    neighbourhood  latitude  longitude  \\\n",
       "82       Jessica           Manhattan     East Village  40.72898  -73.98051   \n",
       "94        Martha           Manhattan          Midtown  40.75322  -73.97353   \n",
       "112           Ha           Manhattan        Chinatown  40.71409  -73.99434   \n",
       "136    Panayiota           Manhattan     East Village  40.72964  -73.98095   \n",
       "147         Mark              Queens        Ridgewood  40.70422  -73.89840   \n",
       "...          ...                 ...              ...       ...        ...   \n",
       "19934     Ashley           Manhattan          Midtown  40.75342  -73.97135   \n",
       "19943   Julianne           Manhattan     West Village  40.73281  -74.00688   \n",
       "19968   Natascha           Manhattan  Upper East Side  40.78439  -73.95762   \n",
       "19981  Park Lane           Manhattan          Midtown  40.76427  -73.97618   \n",
       "19987     Chayla           Manhattan          Midtown  40.75368  -73.97358   \n",
       "\n",
       "             room_type  price  minimum_nights  number_of_reviews last_review  \\\n",
       "82        Private room   1700               1                  0         NaN   \n",
       "94        Private room    500               3                  0         NaN   \n",
       "112    Entire home/apt    400               1                  2  2018-10-07   \n",
       "136    Entire home/apt    380               1                  0         NaN   \n",
       "147    Entire home/apt    375               4                  5  2019-05-17   \n",
       "...                ...    ...             ...                ...         ...   \n",
       "19934  Entire home/apt    699               1                  1  2019-04-23   \n",
       "19943  Entire home/apt    375               4                  5  2019-05-26   \n",
       "19968  Entire home/apt    400               5                  0         NaN   \n",
       "19981     Private room    375               1                  1  2019-06-30   \n",
       "19987     Private room   1599               3                  2  2017-06-09   \n",
       "\n",
       "       reviews_per_month  calculated_host_listings_count  availability_365  \n",
       "82                   NaN                               1                 0  \n",
       "94                   NaN                               1               365  \n",
       "112                 0.20                               4               191  \n",
       "136                  NaN                               1                 0  \n",
       "147                 0.13                               2               364  \n",
       "...                  ...                             ...               ...  \n",
       "19934               0.39                               2               333  \n",
       "19943               0.55                               2               289  \n",
       "19968                NaN                               2               363  \n",
       "19981               1.00                              14               349  \n",
       "19987               0.08                              12               365  \n",
       "\n",
       "[999 rows x 16 columns]"
      ]
     },
     "execution_count": 127,
     "metadata": {},
     "output_type": "execute_result"
    }
   ],
   "source": [
    "df.loc[df['price'].between(min_price, max_price)==False]"
   ]
  },
  {
   "cell_type": "code",
   "execution_count": 128,
   "id": "4503f529",
   "metadata": {},
   "outputs": [
    {
     "data": {
      "text/plain": [
       "False"
      ]
     },
     "execution_count": 128,
     "metadata": {},
     "output_type": "execute_result"
    }
   ],
   "source": [
    "df['price'].between(min_price, max_price).all()"
   ]
  },
  {
   "cell_type": "code",
   "execution_count": 129,
   "id": "9373a470",
   "metadata": {},
   "outputs": [],
   "source": [
    "idx = df['price'].between(min_price, max_price)\n",
    "df = df[idx].copy()"
   ]
  },
  {
   "cell_type": "code",
   "execution_count": 130,
   "id": "9d85d48c",
   "metadata": {},
   "outputs": [
    {
     "data": {
      "text/plain": [
       "True"
      ]
     },
     "execution_count": 130,
     "metadata": {},
     "output_type": "execute_result"
    }
   ],
   "source": [
    "df['price'].between(min_price, max_price).all()"
   ]
  },
  {
   "cell_type": "code",
   "execution_count": 131,
   "id": "001a409b",
   "metadata": {},
   "outputs": [
    {
     "name": "stdout",
     "output_type": "stream",
     "text": [
      "<class 'pandas.core.frame.DataFrame'>\n",
      "Int64Index: 19001 entries, 0 to 19999\n",
      "Data columns (total 16 columns):\n",
      " #   Column                          Non-Null Count  Dtype         \n",
      "---  ------                          --------------  -----         \n",
      " 0   id                              19001 non-null  int64         \n",
      " 1   name                            18994 non-null  object        \n",
      " 2   host_id                         19001 non-null  int64         \n",
      " 3   host_name                       18993 non-null  object        \n",
      " 4   neighbourhood_group             19001 non-null  object        \n",
      " 5   neighbourhood                   19001 non-null  object        \n",
      " 6   latitude                        19001 non-null  float64       \n",
      " 7   longitude                       19001 non-null  float64       \n",
      " 8   room_type                       19001 non-null  object        \n",
      " 9   price                           19001 non-null  int64         \n",
      " 10  minimum_nights                  19001 non-null  int64         \n",
      " 11  number_of_reviews               19001 non-null  int64         \n",
      " 12  last_review                     15243 non-null  datetime64[ns]\n",
      " 13  reviews_per_month               15243 non-null  float64       \n",
      " 14  calculated_host_listings_count  19001 non-null  int64         \n",
      " 15  availability_365                19001 non-null  int64         \n",
      "dtypes: datetime64[ns](1), float64(3), int64(7), object(5)\n",
      "memory usage: 2.5+ MB\n"
     ]
    }
   ],
   "source": [
    "# Convert last_review column to datetime\n",
    "df['last_review'] = pd.to_datetime(df['last_review'])\n",
    "df.info()"
   ]
  },
  {
   "cell_type": "markdown",
   "id": "f1c670d6",
   "metadata": {},
   "source": [
    "# Perform further analysis - check columns with missing values\n",
    "1. last_review\n",
    "2. reviews_per_month\n",
    "3. name\n",
    "4. host_name"
   ]
  },
  {
   "cell_type": "code",
   "execution_count": 132,
   "id": "fc6b29f5",
   "metadata": {},
   "outputs": [
    {
     "data": {
      "text/html": [
       "<div>\n",
       "<style scoped>\n",
       "    .dataframe tbody tr th:only-of-type {\n",
       "        vertical-align: middle;\n",
       "    }\n",
       "\n",
       "    .dataframe tbody tr th {\n",
       "        vertical-align: top;\n",
       "    }\n",
       "\n",
       "    .dataframe thead th {\n",
       "        text-align: right;\n",
       "    }\n",
       "</style>\n",
       "<table border=\"1\" class=\"dataframe\">\n",
       "  <thead>\n",
       "    <tr style=\"text-align: right;\">\n",
       "      <th></th>\n",
       "      <th>id</th>\n",
       "      <th>name</th>\n",
       "      <th>host_id</th>\n",
       "      <th>host_name</th>\n",
       "      <th>neighbourhood_group</th>\n",
       "      <th>neighbourhood</th>\n",
       "      <th>latitude</th>\n",
       "      <th>longitude</th>\n",
       "      <th>room_type</th>\n",
       "      <th>price</th>\n",
       "      <th>minimum_nights</th>\n",
       "      <th>number_of_reviews</th>\n",
       "      <th>last_review</th>\n",
       "      <th>reviews_per_month</th>\n",
       "      <th>calculated_host_listings_count</th>\n",
       "      <th>availability_365</th>\n",
       "    </tr>\n",
       "  </thead>\n",
       "  <tbody>\n",
       "    <tr>\n",
       "      <th>1</th>\n",
       "      <td>31444015</td>\n",
       "      <td>TIME SQUARE CHARMING ONE BED IN HELL'S KITCHEN...</td>\n",
       "      <td>8523790</td>\n",
       "      <td>Johlex</td>\n",
       "      <td>Manhattan</td>\n",
       "      <td>Hell's Kitchen</td>\n",
       "      <td>40.76682</td>\n",
       "      <td>-73.98878</td>\n",
       "      <td>Entire home/apt</td>\n",
       "      <td>170</td>\n",
       "      <td>3</td>\n",
       "      <td>0</td>\n",
       "      <td>NaT</td>\n",
       "      <td>NaN</td>\n",
       "      <td>1</td>\n",
       "      <td>188</td>\n",
       "    </tr>\n",
       "    <tr>\n",
       "      <th>10</th>\n",
       "      <td>35468220</td>\n",
       "      <td>Forest Hills Charming 1 bdrm apartment!</td>\n",
       "      <td>7599704</td>\n",
       "      <td>Sasha</td>\n",
       "      <td>Queens</td>\n",
       "      <td>Forest Hills</td>\n",
       "      <td>40.72085</td>\n",
       "      <td>-73.84088</td>\n",
       "      <td>Entire home/apt</td>\n",
       "      <td>75</td>\n",
       "      <td>1</td>\n",
       "      <td>0</td>\n",
       "      <td>NaT</td>\n",
       "      <td>NaN</td>\n",
       "      <td>1</td>\n",
       "      <td>7</td>\n",
       "    </tr>\n",
       "    <tr>\n",
       "      <th>15</th>\n",
       "      <td>7126110</td>\n",
       "      <td>Sunny East Village Bedroom</td>\n",
       "      <td>37325763</td>\n",
       "      <td>Noah</td>\n",
       "      <td>Manhattan</td>\n",
       "      <td>East Village</td>\n",
       "      <td>40.72393</td>\n",
       "      <td>-73.98271</td>\n",
       "      <td>Private room</td>\n",
       "      <td>100</td>\n",
       "      <td>1</td>\n",
       "      <td>0</td>\n",
       "      <td>NaT</td>\n",
       "      <td>NaN</td>\n",
       "      <td>1</td>\n",
       "      <td>0</td>\n",
       "    </tr>\n",
       "    <tr>\n",
       "      <th>16</th>\n",
       "      <td>35005489</td>\n",
       "      <td>Exquisite Park Slope Paradise</td>\n",
       "      <td>229604812</td>\n",
       "      <td>Jake</td>\n",
       "      <td>Brooklyn</td>\n",
       "      <td>Windsor Terrace</td>\n",
       "      <td>40.65863</td>\n",
       "      <td>-73.98495</td>\n",
       "      <td>Entire home/apt</td>\n",
       "      <td>300</td>\n",
       "      <td>3</td>\n",
       "      <td>0</td>\n",
       "      <td>NaT</td>\n",
       "      <td>NaN</td>\n",
       "      <td>1</td>\n",
       "      <td>335</td>\n",
       "    </tr>\n",
       "    <tr>\n",
       "      <th>27</th>\n",
       "      <td>22064197</td>\n",
       "      <td>Upper West Side Central Park apartment</td>\n",
       "      <td>20153029</td>\n",
       "      <td>Tal</td>\n",
       "      <td>Manhattan</td>\n",
       "      <td>Upper West Side</td>\n",
       "      <td>40.77244</td>\n",
       "      <td>-73.98043</td>\n",
       "      <td>Entire home/apt</td>\n",
       "      <td>190</td>\n",
       "      <td>7</td>\n",
       "      <td>0</td>\n",
       "      <td>NaT</td>\n",
       "      <td>NaN</td>\n",
       "      <td>1</td>\n",
       "      <td>0</td>\n",
       "    </tr>\n",
       "    <tr>\n",
       "      <th>...</th>\n",
       "      <td>...</td>\n",
       "      <td>...</td>\n",
       "      <td>...</td>\n",
       "      <td>...</td>\n",
       "      <td>...</td>\n",
       "      <td>...</td>\n",
       "      <td>...</td>\n",
       "      <td>...</td>\n",
       "      <td>...</td>\n",
       "      <td>...</td>\n",
       "      <td>...</td>\n",
       "      <td>...</td>\n",
       "      <td>...</td>\n",
       "      <td>...</td>\n",
       "      <td>...</td>\n",
       "      <td>...</td>\n",
       "    </tr>\n",
       "    <tr>\n",
       "      <th>19972</th>\n",
       "      <td>32022820</td>\n",
       "      <td>Small Artist Tenement APT in NOLITA/ Little Italy</td>\n",
       "      <td>866089</td>\n",
       "      <td>Launa</td>\n",
       "      <td>Manhattan</td>\n",
       "      <td>Little Italy</td>\n",
       "      <td>40.71910</td>\n",
       "      <td>-73.99513</td>\n",
       "      <td>Entire home/apt</td>\n",
       "      <td>250</td>\n",
       "      <td>3</td>\n",
       "      <td>0</td>\n",
       "      <td>NaT</td>\n",
       "      <td>NaN</td>\n",
       "      <td>3</td>\n",
       "      <td>0</td>\n",
       "    </tr>\n",
       "    <tr>\n",
       "      <th>19982</th>\n",
       "      <td>8205572</td>\n",
       "      <td>Cool Chill Space In a 5BR 2.5 bath</td>\n",
       "      <td>10387090</td>\n",
       "      <td>Luis Enrique</td>\n",
       "      <td>Brooklyn</td>\n",
       "      <td>Bushwick</td>\n",
       "      <td>40.68358</td>\n",
       "      <td>-73.90884</td>\n",
       "      <td>Private room</td>\n",
       "      <td>36</td>\n",
       "      <td>20</td>\n",
       "      <td>0</td>\n",
       "      <td>NaT</td>\n",
       "      <td>NaN</td>\n",
       "      <td>5</td>\n",
       "      <td>346</td>\n",
       "    </tr>\n",
       "    <tr>\n",
       "      <th>19984</th>\n",
       "      <td>7644505</td>\n",
       "      <td>Contemporary Brooklyn Town House</td>\n",
       "      <td>29999716</td>\n",
       "      <td>Scott</td>\n",
       "      <td>Brooklyn</td>\n",
       "      <td>South Slope</td>\n",
       "      <td>40.66393</td>\n",
       "      <td>-73.98728</td>\n",
       "      <td>Entire home/apt</td>\n",
       "      <td>300</td>\n",
       "      <td>7</td>\n",
       "      <td>0</td>\n",
       "      <td>NaT</td>\n",
       "      <td>NaN</td>\n",
       "      <td>1</td>\n",
       "      <td>0</td>\n",
       "    </tr>\n",
       "    <tr>\n",
       "      <th>19988</th>\n",
       "      <td>20811696</td>\n",
       "      <td>A CLASSIC NYC NEIGHBORHOOD-EAST 86TH/5TH AVENUE</td>\n",
       "      <td>76104209</td>\n",
       "      <td>Rated</td>\n",
       "      <td>Manhattan</td>\n",
       "      <td>Upper East Side</td>\n",
       "      <td>40.78015</td>\n",
       "      <td>-73.95852</td>\n",
       "      <td>Entire home/apt</td>\n",
       "      <td>225</td>\n",
       "      <td>30</td>\n",
       "      <td>0</td>\n",
       "      <td>NaT</td>\n",
       "      <td>NaN</td>\n",
       "      <td>33</td>\n",
       "      <td>346</td>\n",
       "    </tr>\n",
       "    <tr>\n",
       "      <th>19990</th>\n",
       "      <td>5192459</td>\n",
       "      <td>Quiet Room in 4BR UWS Brownstone</td>\n",
       "      <td>10677483</td>\n",
       "      <td>Greg</td>\n",
       "      <td>Manhattan</td>\n",
       "      <td>Upper West Side</td>\n",
       "      <td>40.80173</td>\n",
       "      <td>-73.96625</td>\n",
       "      <td>Private room</td>\n",
       "      <td>70</td>\n",
       "      <td>1</td>\n",
       "      <td>0</td>\n",
       "      <td>NaT</td>\n",
       "      <td>NaN</td>\n",
       "      <td>1</td>\n",
       "      <td>0</td>\n",
       "    </tr>\n",
       "  </tbody>\n",
       "</table>\n",
       "<p>3758 rows × 16 columns</p>\n",
       "</div>"
      ],
      "text/plain": [
       "             id                                               name    host_id  \\\n",
       "1      31444015  TIME SQUARE CHARMING ONE BED IN HELL'S KITCHEN...    8523790   \n",
       "10     35468220            Forest Hills Charming 1 bdrm apartment!    7599704   \n",
       "15      7126110                         Sunny East Village Bedroom   37325763   \n",
       "16     35005489                      Exquisite Park Slope Paradise  229604812   \n",
       "27     22064197             Upper West Side Central Park apartment   20153029   \n",
       "...         ...                                                ...        ...   \n",
       "19972  32022820  Small Artist Tenement APT in NOLITA/ Little Italy     866089   \n",
       "19982   8205572                 Cool Chill Space In a 5BR 2.5 bath   10387090   \n",
       "19984   7644505                   Contemporary Brooklyn Town House   29999716   \n",
       "19988  20811696    A CLASSIC NYC NEIGHBORHOOD-EAST 86TH/5TH AVENUE   76104209   \n",
       "19990   5192459                   Quiet Room in 4BR UWS Brownstone   10677483   \n",
       "\n",
       "          host_name neighbourhood_group    neighbourhood  latitude  longitude  \\\n",
       "1            Johlex           Manhattan   Hell's Kitchen  40.76682  -73.98878   \n",
       "10            Sasha              Queens     Forest Hills  40.72085  -73.84088   \n",
       "15             Noah           Manhattan     East Village  40.72393  -73.98271   \n",
       "16             Jake            Brooklyn  Windsor Terrace  40.65863  -73.98495   \n",
       "27              Tal           Manhattan  Upper West Side  40.77244  -73.98043   \n",
       "...             ...                 ...              ...       ...        ...   \n",
       "19972         Launa           Manhattan     Little Italy  40.71910  -73.99513   \n",
       "19982  Luis Enrique            Brooklyn         Bushwick  40.68358  -73.90884   \n",
       "19984         Scott            Brooklyn      South Slope  40.66393  -73.98728   \n",
       "19988         Rated           Manhattan  Upper East Side  40.78015  -73.95852   \n",
       "19990          Greg           Manhattan  Upper West Side  40.80173  -73.96625   \n",
       "\n",
       "             room_type  price  minimum_nights  number_of_reviews last_review  \\\n",
       "1      Entire home/apt    170               3                  0         NaT   \n",
       "10     Entire home/apt     75               1                  0         NaT   \n",
       "15        Private room    100               1                  0         NaT   \n",
       "16     Entire home/apt    300               3                  0         NaT   \n",
       "27     Entire home/apt    190               7                  0         NaT   \n",
       "...                ...    ...             ...                ...         ...   \n",
       "19972  Entire home/apt    250               3                  0         NaT   \n",
       "19982     Private room     36              20                  0         NaT   \n",
       "19984  Entire home/apt    300               7                  0         NaT   \n",
       "19988  Entire home/apt    225              30                  0         NaT   \n",
       "19990     Private room     70               1                  0         NaT   \n",
       "\n",
       "       reviews_per_month  calculated_host_listings_count  availability_365  \n",
       "1                    NaN                               1               188  \n",
       "10                   NaN                               1                 7  \n",
       "15                   NaN                               1                 0  \n",
       "16                   NaN                               1               335  \n",
       "27                   NaN                               1                 0  \n",
       "...                  ...                             ...               ...  \n",
       "19972                NaN                               3                 0  \n",
       "19982                NaN                               5               346  \n",
       "19984                NaN                               1                 0  \n",
       "19988                NaN                              33               346  \n",
       "19990                NaN                               1                 0  \n",
       "\n",
       "[3758 rows x 16 columns]"
      ]
     },
     "execution_count": 132,
     "metadata": {},
     "output_type": "execute_result"
    }
   ],
   "source": [
    "# identify rows in last_review with missing values \n",
    "df[df['last_review'].isnull()]"
   ]
  },
  {
   "cell_type": "markdown",
   "id": "5db3b1b6",
   "metadata": {},
   "source": [
    "Most probably just no reviews were taken place or the review feature was introduced at a later time \n",
    "-> handling has tbd, if the column is needed for model training\n",
    "-> since most probably the data is not available in production as well, this has to be considered in the inference step"
   ]
  },
  {
   "cell_type": "code",
   "execution_count": 133,
   "id": "73b4fc2a",
   "metadata": {},
   "outputs": [
    {
     "data": {
      "text/html": [
       "<div>\n",
       "<style scoped>\n",
       "    .dataframe tbody tr th:only-of-type {\n",
       "        vertical-align: middle;\n",
       "    }\n",
       "\n",
       "    .dataframe tbody tr th {\n",
       "        vertical-align: top;\n",
       "    }\n",
       "\n",
       "    .dataframe thead th {\n",
       "        text-align: right;\n",
       "    }\n",
       "</style>\n",
       "<table border=\"1\" class=\"dataframe\">\n",
       "  <thead>\n",
       "    <tr style=\"text-align: right;\">\n",
       "      <th></th>\n",
       "      <th>id</th>\n",
       "      <th>name</th>\n",
       "      <th>host_id</th>\n",
       "      <th>host_name</th>\n",
       "      <th>neighbourhood_group</th>\n",
       "      <th>neighbourhood</th>\n",
       "      <th>latitude</th>\n",
       "      <th>longitude</th>\n",
       "      <th>room_type</th>\n",
       "      <th>price</th>\n",
       "      <th>minimum_nights</th>\n",
       "      <th>number_of_reviews</th>\n",
       "      <th>last_review</th>\n",
       "      <th>reviews_per_month</th>\n",
       "      <th>calculated_host_listings_count</th>\n",
       "      <th>availability_365</th>\n",
       "    </tr>\n",
       "  </thead>\n",
       "  <tbody>\n",
       "  </tbody>\n",
       "</table>\n",
       "</div>"
      ],
      "text/plain": [
       "Empty DataFrame\n",
       "Columns: [id, name, host_id, host_name, neighbourhood_group, neighbourhood, latitude, longitude, room_type, price, minimum_nights, number_of_reviews, last_review, reviews_per_month, calculated_host_listings_count, availability_365]\n",
       "Index: []"
      ]
     },
     "execution_count": 133,
     "metadata": {},
     "output_type": "execute_result"
    }
   ],
   "source": [
    "# identify rows in reviews_per_month with missing values \n",
    "df[df['reviews_per_month'].isnull()]\n",
    "# -> no last_review date, most probably so far no review...\n",
    "# set the values equal to 0 - logically the correct value since there was just no review so far \n",
    "df['reviews_per_month'].fillna(0, inplace=True)\n",
    "\n",
    "# double check\n",
    "df[df['reviews_per_month'].isnull()]"
   ]
  },
  {
   "cell_type": "code",
   "execution_count": 134,
   "id": "483f55b3",
   "metadata": {
    "scrolled": true
   },
   "outputs": [
    {
     "data": {
      "text/html": [
       "<div>\n",
       "<style scoped>\n",
       "    .dataframe tbody tr th:only-of-type {\n",
       "        vertical-align: middle;\n",
       "    }\n",
       "\n",
       "    .dataframe tbody tr th {\n",
       "        vertical-align: top;\n",
       "    }\n",
       "\n",
       "    .dataframe thead th {\n",
       "        text-align: right;\n",
       "    }\n",
       "</style>\n",
       "<table border=\"1\" class=\"dataframe\">\n",
       "  <thead>\n",
       "    <tr style=\"text-align: right;\">\n",
       "      <th></th>\n",
       "      <th>id</th>\n",
       "      <th>name</th>\n",
       "      <th>host_id</th>\n",
       "      <th>host_name</th>\n",
       "      <th>neighbourhood_group</th>\n",
       "      <th>neighbourhood</th>\n",
       "      <th>latitude</th>\n",
       "      <th>longitude</th>\n",
       "      <th>room_type</th>\n",
       "      <th>price</th>\n",
       "      <th>minimum_nights</th>\n",
       "      <th>number_of_reviews</th>\n",
       "      <th>last_review</th>\n",
       "      <th>reviews_per_month</th>\n",
       "      <th>calculated_host_listings_count</th>\n",
       "      <th>availability_365</th>\n",
       "    </tr>\n",
       "  </thead>\n",
       "  <tbody>\n",
       "    <tr>\n",
       "      <th>3872</th>\n",
       "      <td>22275821</td>\n",
       "      <td>NaN</td>\n",
       "      <td>49662398</td>\n",
       "      <td>Kathleen</td>\n",
       "      <td>Brooklyn</td>\n",
       "      <td>Bushwick</td>\n",
       "      <td>40.69546</td>\n",
       "      <td>-73.92741</td>\n",
       "      <td>Entire home/apt</td>\n",
       "      <td>110</td>\n",
       "      <td>4</td>\n",
       "      <td>5</td>\n",
       "      <td>2018-08-13</td>\n",
       "      <td>0.27</td>\n",
       "      <td>1</td>\n",
       "      <td>0</td>\n",
       "    </tr>\n",
       "    <tr>\n",
       "      <th>4561</th>\n",
       "      <td>6782407</td>\n",
       "      <td>NaN</td>\n",
       "      <td>31147528</td>\n",
       "      <td>Huei-Yin</td>\n",
       "      <td>Brooklyn</td>\n",
       "      <td>Williamsburg</td>\n",
       "      <td>40.71354</td>\n",
       "      <td>-73.93882</td>\n",
       "      <td>Private room</td>\n",
       "      <td>45</td>\n",
       "      <td>1</td>\n",
       "      <td>0</td>\n",
       "      <td>NaT</td>\n",
       "      <td>0.00</td>\n",
       "      <td>1</td>\n",
       "      <td>0</td>\n",
       "    </tr>\n",
       "    <tr>\n",
       "      <th>5588</th>\n",
       "      <td>14135050</td>\n",
       "      <td>NaN</td>\n",
       "      <td>85288337</td>\n",
       "      <td>Jeff</td>\n",
       "      <td>Brooklyn</td>\n",
       "      <td>Bedford-Stuyvesant</td>\n",
       "      <td>40.69421</td>\n",
       "      <td>-73.93234</td>\n",
       "      <td>Private room</td>\n",
       "      <td>70</td>\n",
       "      <td>3</td>\n",
       "      <td>0</td>\n",
       "      <td>NaT</td>\n",
       "      <td>0.00</td>\n",
       "      <td>1</td>\n",
       "      <td>0</td>\n",
       "    </tr>\n",
       "    <tr>\n",
       "      <th>7259</th>\n",
       "      <td>9885866</td>\n",
       "      <td>NaN</td>\n",
       "      <td>37306329</td>\n",
       "      <td>Juliette</td>\n",
       "      <td>Manhattan</td>\n",
       "      <td>Chinatown</td>\n",
       "      <td>40.71632</td>\n",
       "      <td>-73.99328</td>\n",
       "      <td>Private room</td>\n",
       "      <td>67</td>\n",
       "      <td>4</td>\n",
       "      <td>0</td>\n",
       "      <td>NaT</td>\n",
       "      <td>0.00</td>\n",
       "      <td>1</td>\n",
       "      <td>0</td>\n",
       "    </tr>\n",
       "    <tr>\n",
       "      <th>9692</th>\n",
       "      <td>10052289</td>\n",
       "      <td>NaN</td>\n",
       "      <td>49522403</td>\n",
       "      <td>Vanessa</td>\n",
       "      <td>Brooklyn</td>\n",
       "      <td>Brownsville</td>\n",
       "      <td>40.66409</td>\n",
       "      <td>-73.92314</td>\n",
       "      <td>Private room</td>\n",
       "      <td>50</td>\n",
       "      <td>3</td>\n",
       "      <td>3</td>\n",
       "      <td>2016-08-18</td>\n",
       "      <td>0.07</td>\n",
       "      <td>1</td>\n",
       "      <td>362</td>\n",
       "    </tr>\n",
       "    <tr>\n",
       "      <th>11666</th>\n",
       "      <td>4581788</td>\n",
       "      <td>NaN</td>\n",
       "      <td>21600904</td>\n",
       "      <td>Lucie</td>\n",
       "      <td>Brooklyn</td>\n",
       "      <td>Williamsburg</td>\n",
       "      <td>40.71370</td>\n",
       "      <td>-73.94378</td>\n",
       "      <td>Private room</td>\n",
       "      <td>150</td>\n",
       "      <td>1</td>\n",
       "      <td>0</td>\n",
       "      <td>NaT</td>\n",
       "      <td>0.00</td>\n",
       "      <td>1</td>\n",
       "      <td>0</td>\n",
       "    </tr>\n",
       "    <tr>\n",
       "      <th>14978</th>\n",
       "      <td>12797684</td>\n",
       "      <td>NaN</td>\n",
       "      <td>69715276</td>\n",
       "      <td>Yan</td>\n",
       "      <td>Manhattan</td>\n",
       "      <td>Upper West Side</td>\n",
       "      <td>40.79843</td>\n",
       "      <td>-73.96404</td>\n",
       "      <td>Private room</td>\n",
       "      <td>100</td>\n",
       "      <td>1</td>\n",
       "      <td>0</td>\n",
       "      <td>NaT</td>\n",
       "      <td>0.00</td>\n",
       "      <td>2</td>\n",
       "      <td>0</td>\n",
       "    </tr>\n",
       "  </tbody>\n",
       "</table>\n",
       "</div>"
      ],
      "text/plain": [
       "             id name   host_id host_name neighbourhood_group  \\\n",
       "3872   22275821  NaN  49662398  Kathleen            Brooklyn   \n",
       "4561    6782407  NaN  31147528  Huei-Yin            Brooklyn   \n",
       "5588   14135050  NaN  85288337      Jeff            Brooklyn   \n",
       "7259    9885866  NaN  37306329  Juliette           Manhattan   \n",
       "9692   10052289  NaN  49522403   Vanessa            Brooklyn   \n",
       "11666   4581788  NaN  21600904     Lucie            Brooklyn   \n",
       "14978  12797684  NaN  69715276       Yan           Manhattan   \n",
       "\n",
       "            neighbourhood  latitude  longitude        room_type  price  \\\n",
       "3872             Bushwick  40.69546  -73.92741  Entire home/apt    110   \n",
       "4561         Williamsburg  40.71354  -73.93882     Private room     45   \n",
       "5588   Bedford-Stuyvesant  40.69421  -73.93234     Private room     70   \n",
       "7259            Chinatown  40.71632  -73.99328     Private room     67   \n",
       "9692          Brownsville  40.66409  -73.92314     Private room     50   \n",
       "11666        Williamsburg  40.71370  -73.94378     Private room    150   \n",
       "14978     Upper West Side  40.79843  -73.96404     Private room    100   \n",
       "\n",
       "       minimum_nights  number_of_reviews last_review  reviews_per_month  \\\n",
       "3872                4                  5  2018-08-13               0.27   \n",
       "4561                1                  0         NaT               0.00   \n",
       "5588                3                  0         NaT               0.00   \n",
       "7259                4                  0         NaT               0.00   \n",
       "9692                3                  3  2016-08-18               0.07   \n",
       "11666               1                  0         NaT               0.00   \n",
       "14978               1                  0         NaT               0.00   \n",
       "\n",
       "       calculated_host_listings_count  availability_365  \n",
       "3872                                1                 0  \n",
       "4561                                1                 0  \n",
       "5588                                1                 0  \n",
       "7259                                1                 0  \n",
       "9692                                1               362  \n",
       "11666                               1                 0  \n",
       "14978                               2                 0  "
      ]
     },
     "execution_count": 134,
     "metadata": {},
     "output_type": "execute_result"
    }
   ],
   "source": [
    "# identify the missing values in the name column\n",
    "df[df['name'].isnull()]"
   ]
  },
  {
   "cell_type": "code",
   "execution_count": 135,
   "id": "29d2927a",
   "metadata": {},
   "outputs": [
    {
     "data": {
      "text/plain": [
       "True"
      ]
     },
     "execution_count": 135,
     "metadata": {},
     "output_type": "execute_result"
    }
   ],
   "source": [
    "# is the id used elsewhere in order to get the name\n",
    "df['id'].is_unique"
   ]
  },
  {
   "cell_type": "code",
   "execution_count": 136,
   "id": "9268052d",
   "metadata": {},
   "outputs": [
    {
     "data": {
      "text/html": [
       "<div>\n",
       "<style scoped>\n",
       "    .dataframe tbody tr th:only-of-type {\n",
       "        vertical-align: middle;\n",
       "    }\n",
       "\n",
       "    .dataframe tbody tr th {\n",
       "        vertical-align: top;\n",
       "    }\n",
       "\n",
       "    .dataframe thead th {\n",
       "        text-align: right;\n",
       "    }\n",
       "</style>\n",
       "<table border=\"1\" class=\"dataframe\">\n",
       "  <thead>\n",
       "    <tr style=\"text-align: right;\">\n",
       "      <th></th>\n",
       "      <th>id</th>\n",
       "      <th>name</th>\n",
       "      <th>host_id</th>\n",
       "      <th>host_name</th>\n",
       "      <th>neighbourhood_group</th>\n",
       "      <th>neighbourhood</th>\n",
       "      <th>latitude</th>\n",
       "      <th>longitude</th>\n",
       "      <th>room_type</th>\n",
       "      <th>price</th>\n",
       "      <th>minimum_nights</th>\n",
       "      <th>number_of_reviews</th>\n",
       "      <th>last_review</th>\n",
       "      <th>reviews_per_month</th>\n",
       "      <th>calculated_host_listings_count</th>\n",
       "      <th>availability_365</th>\n",
       "    </tr>\n",
       "  </thead>\n",
       "  <tbody>\n",
       "  </tbody>\n",
       "</table>\n",
       "</div>"
      ],
      "text/plain": [
       "Empty DataFrame\n",
       "Columns: [id, name, host_id, host_name, neighbourhood_group, neighbourhood, latitude, longitude, room_type, price, minimum_nights, number_of_reviews, last_review, reviews_per_month, calculated_host_listings_count, availability_365]\n",
       "Index: []"
      ]
     },
     "execution_count": 136,
     "metadata": {},
     "output_type": "execute_result"
    }
   ],
   "source": [
    "# id is unique, therefore name can not be copied from items with the same id \n",
    "# -> either drop NaNrows or set an empty string -> handling has tbd \n",
    "# At the moment set the missing values to an empty string\n",
    "df['name'].fillna(\"\", inplace=True)\n",
    "df[df['name'].isnull()]"
   ]
  },
  {
   "cell_type": "code",
   "execution_count": 137,
   "id": "3db96cb6",
   "metadata": {},
   "outputs": [
    {
     "data": {
      "text/html": [
       "<div>\n",
       "<style scoped>\n",
       "    .dataframe tbody tr th:only-of-type {\n",
       "        vertical-align: middle;\n",
       "    }\n",
       "\n",
       "    .dataframe tbody tr th {\n",
       "        vertical-align: top;\n",
       "    }\n",
       "\n",
       "    .dataframe thead th {\n",
       "        text-align: right;\n",
       "    }\n",
       "</style>\n",
       "<table border=\"1\" class=\"dataframe\">\n",
       "  <thead>\n",
       "    <tr style=\"text-align: right;\">\n",
       "      <th></th>\n",
       "      <th>id</th>\n",
       "      <th>name</th>\n",
       "      <th>host_id</th>\n",
       "      <th>host_name</th>\n",
       "      <th>neighbourhood_group</th>\n",
       "      <th>neighbourhood</th>\n",
       "      <th>latitude</th>\n",
       "      <th>longitude</th>\n",
       "      <th>room_type</th>\n",
       "      <th>price</th>\n",
       "      <th>minimum_nights</th>\n",
       "      <th>number_of_reviews</th>\n",
       "      <th>last_review</th>\n",
       "      <th>reviews_per_month</th>\n",
       "      <th>calculated_host_listings_count</th>\n",
       "      <th>availability_365</th>\n",
       "    </tr>\n",
       "  </thead>\n",
       "  <tbody>\n",
       "    <tr>\n",
       "      <th>2180</th>\n",
       "      <td>1449546</td>\n",
       "      <td>Cozy Studio in Flatbush</td>\n",
       "      <td>7779204</td>\n",
       "      <td>NaN</td>\n",
       "      <td>Brooklyn</td>\n",
       "      <td>Flatbush</td>\n",
       "      <td>40.64965</td>\n",
       "      <td>-73.96154</td>\n",
       "      <td>Entire home/apt</td>\n",
       "      <td>100</td>\n",
       "      <td>30</td>\n",
       "      <td>49</td>\n",
       "      <td>2017-01-02</td>\n",
       "      <td>0.69</td>\n",
       "      <td>1</td>\n",
       "      <td>342</td>\n",
       "    </tr>\n",
       "    <tr>\n",
       "      <th>5268</th>\n",
       "      <td>6992973</td>\n",
       "      <td>1 Bedroom in Prime Williamsburg</td>\n",
       "      <td>5162530</td>\n",
       "      <td>NaN</td>\n",
       "      <td>Brooklyn</td>\n",
       "      <td>Williamsburg</td>\n",
       "      <td>40.71838</td>\n",
       "      <td>-73.95630</td>\n",
       "      <td>Entire home/apt</td>\n",
       "      <td>145</td>\n",
       "      <td>1</td>\n",
       "      <td>0</td>\n",
       "      <td>NaT</td>\n",
       "      <td>0.00</td>\n",
       "      <td>1</td>\n",
       "      <td>0</td>\n",
       "    </tr>\n",
       "    <tr>\n",
       "      <th>7059</th>\n",
       "      <td>12113879</td>\n",
       "      <td>Sunny, Large West Village 1 BR Near Everything</td>\n",
       "      <td>5300585</td>\n",
       "      <td>NaN</td>\n",
       "      <td>Manhattan</td>\n",
       "      <td>Chelsea</td>\n",
       "      <td>40.73949</td>\n",
       "      <td>-73.99801</td>\n",
       "      <td>Entire home/apt</td>\n",
       "      <td>220</td>\n",
       "      <td>4</td>\n",
       "      <td>81</td>\n",
       "      <td>2019-07-02</td>\n",
       "      <td>2.11</td>\n",
       "      <td>1</td>\n",
       "      <td>217</td>\n",
       "    </tr>\n",
       "    <tr>\n",
       "      <th>7420</th>\n",
       "      <td>6360224</td>\n",
       "      <td>Sunny, Private room in Bushwick</td>\n",
       "      <td>33134899</td>\n",
       "      <td>NaN</td>\n",
       "      <td>Brooklyn</td>\n",
       "      <td>Bushwick</td>\n",
       "      <td>40.70146</td>\n",
       "      <td>-73.92792</td>\n",
       "      <td>Private room</td>\n",
       "      <td>37</td>\n",
       "      <td>1</td>\n",
       "      <td>1</td>\n",
       "      <td>2015-07-01</td>\n",
       "      <td>0.02</td>\n",
       "      <td>1</td>\n",
       "      <td>0</td>\n",
       "    </tr>\n",
       "    <tr>\n",
       "      <th>11359</th>\n",
       "      <td>23660605</td>\n",
       "      <td>Private Bedroom w/ Balcony view of Central Park</td>\n",
       "      <td>177146433</td>\n",
       "      <td>NaN</td>\n",
       "      <td>Manhattan</td>\n",
       "      <td>East Harlem</td>\n",
       "      <td>40.79766</td>\n",
       "      <td>-73.94824</td>\n",
       "      <td>Private room</td>\n",
       "      <td>139</td>\n",
       "      <td>1</td>\n",
       "      <td>6</td>\n",
       "      <td>2018-08-12</td>\n",
       "      <td>0.46</td>\n",
       "      <td>1</td>\n",
       "      <td>0</td>\n",
       "    </tr>\n",
       "    <tr>\n",
       "      <th>17161</th>\n",
       "      <td>6786181</td>\n",
       "      <td>R&amp;S Modern Spacious Hideaway</td>\n",
       "      <td>32722063</td>\n",
       "      <td>NaN</td>\n",
       "      <td>Brooklyn</td>\n",
       "      <td>East Flatbush</td>\n",
       "      <td>40.64345</td>\n",
       "      <td>-73.93643</td>\n",
       "      <td>Entire home/apt</td>\n",
       "      <td>100</td>\n",
       "      <td>2</td>\n",
       "      <td>157</td>\n",
       "      <td>2019-06-19</td>\n",
       "      <td>3.18</td>\n",
       "      <td>2</td>\n",
       "      <td>342</td>\n",
       "    </tr>\n",
       "    <tr>\n",
       "      <th>19452</th>\n",
       "      <td>7556587</td>\n",
       "      <td>Sunny Room in Harlem</td>\n",
       "      <td>39608626</td>\n",
       "      <td>NaN</td>\n",
       "      <td>Manhattan</td>\n",
       "      <td>Harlem</td>\n",
       "      <td>40.82929</td>\n",
       "      <td>-73.94182</td>\n",
       "      <td>Private room</td>\n",
       "      <td>28</td>\n",
       "      <td>1</td>\n",
       "      <td>1</td>\n",
       "      <td>2015-08-01</td>\n",
       "      <td>0.02</td>\n",
       "      <td>1</td>\n",
       "      <td>0</td>\n",
       "    </tr>\n",
       "    <tr>\n",
       "      <th>19906</th>\n",
       "      <td>21901156</td>\n",
       "      <td>Best Deal! Lovely place in Manhattan! Time Squ...</td>\n",
       "      <td>159156636</td>\n",
       "      <td>NaN</td>\n",
       "      <td>Manhattan</td>\n",
       "      <td>Hell's Kitchen</td>\n",
       "      <td>40.75656</td>\n",
       "      <td>-73.99063</td>\n",
       "      <td>Private room</td>\n",
       "      <td>120</td>\n",
       "      <td>1</td>\n",
       "      <td>109</td>\n",
       "      <td>2019-01-01</td>\n",
       "      <td>5.97</td>\n",
       "      <td>3</td>\n",
       "      <td>0</td>\n",
       "    </tr>\n",
       "  </tbody>\n",
       "</table>\n",
       "</div>"
      ],
      "text/plain": [
       "             id                                               name    host_id  \\\n",
       "2180    1449546                            Cozy Studio in Flatbush    7779204   \n",
       "5268    6992973                    1 Bedroom in Prime Williamsburg    5162530   \n",
       "7059   12113879     Sunny, Large West Village 1 BR Near Everything    5300585   \n",
       "7420    6360224                    Sunny, Private room in Bushwick   33134899   \n",
       "11359  23660605    Private Bedroom w/ Balcony view of Central Park  177146433   \n",
       "17161   6786181                       R&S Modern Spacious Hideaway   32722063   \n",
       "19452   7556587                               Sunny Room in Harlem   39608626   \n",
       "19906  21901156  Best Deal! Lovely place in Manhattan! Time Squ...  159156636   \n",
       "\n",
       "      host_name neighbourhood_group   neighbourhood  latitude  longitude  \\\n",
       "2180        NaN            Brooklyn        Flatbush  40.64965  -73.96154   \n",
       "5268        NaN            Brooklyn    Williamsburg  40.71838  -73.95630   \n",
       "7059        NaN           Manhattan         Chelsea  40.73949  -73.99801   \n",
       "7420        NaN            Brooklyn        Bushwick  40.70146  -73.92792   \n",
       "11359       NaN           Manhattan     East Harlem  40.79766  -73.94824   \n",
       "17161       NaN            Brooklyn   East Flatbush  40.64345  -73.93643   \n",
       "19452       NaN           Manhattan          Harlem  40.82929  -73.94182   \n",
       "19906       NaN           Manhattan  Hell's Kitchen  40.75656  -73.99063   \n",
       "\n",
       "             room_type  price  minimum_nights  number_of_reviews last_review  \\\n",
       "2180   Entire home/apt    100              30                 49  2017-01-02   \n",
       "5268   Entire home/apt    145               1                  0         NaT   \n",
       "7059   Entire home/apt    220               4                 81  2019-07-02   \n",
       "7420      Private room     37               1                  1  2015-07-01   \n",
       "11359     Private room    139               1                  6  2018-08-12   \n",
       "17161  Entire home/apt    100               2                157  2019-06-19   \n",
       "19452     Private room     28               1                  1  2015-08-01   \n",
       "19906     Private room    120               1                109  2019-01-01   \n",
       "\n",
       "       reviews_per_month  calculated_host_listings_count  availability_365  \n",
       "2180                0.69                               1               342  \n",
       "5268                0.00                               1                 0  \n",
       "7059                2.11                               1               217  \n",
       "7420                0.02                               1                 0  \n",
       "11359               0.46                               1                 0  \n",
       "17161               3.18                               2               342  \n",
       "19452               0.02                               1                 0  \n",
       "19906               5.97                               3                 0  "
      ]
     },
     "execution_count": 137,
     "metadata": {},
     "output_type": "execute_result"
    }
   ],
   "source": [
    "# identify the missing values in the host_name column\n",
    "df[df['host_name'].isnull()]"
   ]
  },
  {
   "cell_type": "code",
   "execution_count": 138,
   "id": "8677d95a",
   "metadata": {
    "scrolled": true
   },
   "outputs": [
    {
     "data": {
      "text/plain": [
       "False"
      ]
     },
     "execution_count": 138,
     "metadata": {},
     "output_type": "execute_result"
    }
   ],
   "source": [
    "# is there a chance that the host_id is used elsewhere in order to get the host_name\n",
    "df['host_id'].is_unique"
   ]
  },
  {
   "cell_type": "code",
   "execution_count": 139,
   "id": "7940036e",
   "metadata": {},
   "outputs": [
    {
     "data": {
      "text/plain": [
       "[7779204, 5162530, 5300585, 33134899, 177146433, 32722063, 39608626, 159156636]"
      ]
     },
     "execution_count": 139,
     "metadata": {},
     "output_type": "execute_result"
    }
   ],
   "source": [
    "# get all host_ids of the NaN rows for further checks\n",
    "host_ids = list(df[df['host_name'].isnull()]['host_id'])\n",
    "host_ids"
   ]
  },
  {
   "cell_type": "code",
   "execution_count": 140,
   "id": "f8e8cf9f",
   "metadata": {},
   "outputs": [],
   "source": [
    "# find a possible match to copy host_name from other row with same host_id\n",
    "for host_id in host_ids:\n",
    "    # check if the host_id is used in another record \n",
    "    if (df.loc[df['host_id'] == host_id].shape[0] > 1): \n",
    "        print(f\"FOUND another record for host_id: {host_id}\")\n"
   ]
  },
  {
   "cell_type": "code",
   "execution_count": 141,
   "id": "d5f0f8fc",
   "metadata": {},
   "outputs": [
    {
     "data": {
      "text/html": [
       "<div>\n",
       "<style scoped>\n",
       "    .dataframe tbody tr th:only-of-type {\n",
       "        vertical-align: middle;\n",
       "    }\n",
       "\n",
       "    .dataframe tbody tr th {\n",
       "        vertical-align: top;\n",
       "    }\n",
       "\n",
       "    .dataframe thead th {\n",
       "        text-align: right;\n",
       "    }\n",
       "</style>\n",
       "<table border=\"1\" class=\"dataframe\">\n",
       "  <thead>\n",
       "    <tr style=\"text-align: right;\">\n",
       "      <th></th>\n",
       "      <th>id</th>\n",
       "      <th>name</th>\n",
       "      <th>host_id</th>\n",
       "      <th>host_name</th>\n",
       "      <th>neighbourhood_group</th>\n",
       "      <th>neighbourhood</th>\n",
       "      <th>latitude</th>\n",
       "      <th>longitude</th>\n",
       "      <th>room_type</th>\n",
       "      <th>price</th>\n",
       "      <th>minimum_nights</th>\n",
       "      <th>number_of_reviews</th>\n",
       "      <th>last_review</th>\n",
       "      <th>reviews_per_month</th>\n",
       "      <th>calculated_host_listings_count</th>\n",
       "      <th>availability_365</th>\n",
       "    </tr>\n",
       "  </thead>\n",
       "  <tbody>\n",
       "  </tbody>\n",
       "</table>\n",
       "</div>"
      ],
      "text/plain": [
       "Empty DataFrame\n",
       "Columns: [id, name, host_id, host_name, neighbourhood_group, neighbourhood, latitude, longitude, room_type, price, minimum_nights, number_of_reviews, last_review, reviews_per_month, calculated_host_listings_count, availability_365]\n",
       "Index: []"
      ]
     },
     "execution_count": 141,
     "metadata": {},
     "output_type": "execute_result"
    }
   ],
   "source": [
    "# no other match found -> again, either drop NaNrows or set an empty string \n",
    "# current choice is the empty string\n",
    "df['host_name'].fillna(\"\", inplace=True)\n",
    "df[df['host_name'].isnull()]"
   ]
  },
  {
   "cell_type": "markdown",
   "id": "3d5ff943",
   "metadata": {},
   "source": [
    "# Understand data correlations"
   ]
  },
  {
   "cell_type": "code",
   "execution_count": 142,
   "id": "52983493",
   "metadata": {},
   "outputs": [
    {
     "data": {
      "text/html": [
       "<div>\n",
       "<style scoped>\n",
       "    .dataframe tbody tr th:only-of-type {\n",
       "        vertical-align: middle;\n",
       "    }\n",
       "\n",
       "    .dataframe tbody tr th {\n",
       "        vertical-align: top;\n",
       "    }\n",
       "\n",
       "    .dataframe thead th {\n",
       "        text-align: right;\n",
       "    }\n",
       "</style>\n",
       "<table border=\"1\" class=\"dataframe\">\n",
       "  <thead>\n",
       "    <tr style=\"text-align: right;\">\n",
       "      <th></th>\n",
       "      <th>neighbourhood_group</th>\n",
       "      <th>room_type</th>\n",
       "      <th>price</th>\n",
       "    </tr>\n",
       "  </thead>\n",
       "  <tbody>\n",
       "    <tr>\n",
       "      <th>0</th>\n",
       "      <td>Bronx</td>\n",
       "      <td>Entire home/apt</td>\n",
       "      <td>113.682759</td>\n",
       "    </tr>\n",
       "    <tr>\n",
       "      <th>1</th>\n",
       "      <td>Bronx</td>\n",
       "      <td>Private room</td>\n",
       "      <td>63.500000</td>\n",
       "    </tr>\n",
       "    <tr>\n",
       "      <th>2</th>\n",
       "      <td>Bronx</td>\n",
       "      <td>Shared room</td>\n",
       "      <td>46.962963</td>\n",
       "    </tr>\n",
       "    <tr>\n",
       "      <th>3</th>\n",
       "      <td>Brooklyn</td>\n",
       "      <td>Entire home/apt</td>\n",
       "      <td>151.030900</td>\n",
       "    </tr>\n",
       "    <tr>\n",
       "      <th>4</th>\n",
       "      <td>Brooklyn</td>\n",
       "      <td>Private room</td>\n",
       "      <td>70.548792</td>\n",
       "    </tr>\n",
       "    <tr>\n",
       "      <th>5</th>\n",
       "      <td>Brooklyn</td>\n",
       "      <td>Shared room</td>\n",
       "      <td>48.940789</td>\n",
       "    </tr>\n",
       "    <tr>\n",
       "      <th>6</th>\n",
       "      <td>Manhattan</td>\n",
       "      <td>Entire home/apt</td>\n",
       "      <td>186.170467</td>\n",
       "    </tr>\n",
       "    <tr>\n",
       "      <th>7</th>\n",
       "      <td>Manhattan</td>\n",
       "      <td>Private room</td>\n",
       "      <td>99.108613</td>\n",
       "    </tr>\n",
       "    <tr>\n",
       "      <th>8</th>\n",
       "      <td>Manhattan</td>\n",
       "      <td>Shared room</td>\n",
       "      <td>76.405556</td>\n",
       "    </tr>\n",
       "    <tr>\n",
       "      <th>9</th>\n",
       "      <td>Queens</td>\n",
       "      <td>Entire home/apt</td>\n",
       "      <td>132.074246</td>\n",
       "    </tr>\n",
       "    <tr>\n",
       "      <th>10</th>\n",
       "      <td>Queens</td>\n",
       "      <td>Private room</td>\n",
       "      <td>65.741750</td>\n",
       "    </tr>\n",
       "    <tr>\n",
       "      <th>11</th>\n",
       "      <td>Queens</td>\n",
       "      <td>Shared room</td>\n",
       "      <td>51.280000</td>\n",
       "    </tr>\n",
       "    <tr>\n",
       "      <th>12</th>\n",
       "      <td>Staten Island</td>\n",
       "      <td>Entire home/apt</td>\n",
       "      <td>122.544118</td>\n",
       "    </tr>\n",
       "    <tr>\n",
       "      <th>13</th>\n",
       "      <td>Staten Island</td>\n",
       "      <td>Private room</td>\n",
       "      <td>61.977011</td>\n",
       "    </tr>\n",
       "    <tr>\n",
       "      <th>14</th>\n",
       "      <td>Staten Island</td>\n",
       "      <td>Shared room</td>\n",
       "      <td>55.500000</td>\n",
       "    </tr>\n",
       "  </tbody>\n",
       "</table>\n",
       "</div>"
      ],
      "text/plain": [
       "   neighbourhood_group        room_type       price\n",
       "0                Bronx  Entire home/apt  113.682759\n",
       "1                Bronx     Private room   63.500000\n",
       "2                Bronx      Shared room   46.962963\n",
       "3             Brooklyn  Entire home/apt  151.030900\n",
       "4             Brooklyn     Private room   70.548792\n",
       "5             Brooklyn      Shared room   48.940789\n",
       "6            Manhattan  Entire home/apt  186.170467\n",
       "7            Manhattan     Private room   99.108613\n",
       "8            Manhattan      Shared room   76.405556\n",
       "9               Queens  Entire home/apt  132.074246\n",
       "10              Queens     Private room   65.741750\n",
       "11              Queens      Shared room   51.280000\n",
       "12       Staten Island  Entire home/apt  122.544118\n",
       "13       Staten Island     Private room   61.977011\n",
       "14       Staten Island      Shared room   55.500000"
      ]
     },
     "execution_count": 142,
     "metadata": {},
     "output_type": "execute_result"
    }
   ],
   "source": [
    "# check correlations between neighbourhood_group,room_type,price\n",
    "df_grp = df[['neighbourhood_group','room_type', 'price']]\n",
    "df_grp = df_grp.groupby(['neighbourhood_group','room_type'],as_index=False).mean()\n",
    "df_grp"
   ]
  },
  {
   "cell_type": "code",
   "execution_count": 143,
   "id": "ba408267",
   "metadata": {},
   "outputs": [
    {
     "data": {
      "text/plain": [
       "<AxesSubplot:xlabel='neighbourhood_group', ylabel='price'>"
      ]
     },
     "execution_count": 143,
     "metadata": {},
     "output_type": "execute_result"
    },
    {
     "data": {
      "image/png": "[encoded data removed]",
      "text/plain": [
       "<Figure size 432x288 with 1 Axes>"
      ]
     },
     "metadata": {},
     "output_type": "display_data"
    }
   ],
   "source": [
    "sns.boxplot(x=\"neighbourhood_group\", y=\"price\", data=df)"
   ]
  },
  {
   "cell_type": "code",
   "execution_count": 144,
   "id": "5f4c9919",
   "metadata": {
    "scrolled": false
   },
   "outputs": [
    {
     "data": {
      "text/plain": [
       "<AxesSubplot:xlabel='room_type', ylabel='price'>"
      ]
     },
     "execution_count": 144,
     "metadata": {},
     "output_type": "execute_result"
    },
    {
     "data": {
      "image/png": "[encoded data removed]",
      "text/plain": [
       "<Figure size 432x288 with 1 Axes>"
      ]
     },
     "metadata": {},
     "output_type": "display_data"
    }
   ],
   "source": [
    "sns.boxplot(x=\"room_type\", y=\"price\", data=df)"
   ]
  },
  {
   "cell_type": "code",
   "execution_count": 145,
   "id": "c64a9e00",
   "metadata": {
    "scrolled": true
   },
   "outputs": [
    {
     "data": {
      "text/html": [
       "<div>\n",
       "<style scoped>\n",
       "    .dataframe tbody tr th:only-of-type {\n",
       "        vertical-align: middle;\n",
       "    }\n",
       "\n",
       "    .dataframe tbody tr th {\n",
       "        vertical-align: top;\n",
       "    }\n",
       "\n",
       "    .dataframe thead tr th {\n",
       "        text-align: left;\n",
       "    }\n",
       "\n",
       "    .dataframe thead tr:last-of-type th {\n",
       "        text-align: right;\n",
       "    }\n",
       "</style>\n",
       "<table border=\"1\" class=\"dataframe\">\n",
       "  <thead>\n",
       "    <tr>\n",
       "      <th></th>\n",
       "      <th colspan=\"3\" halign=\"left\">price</th>\n",
       "    </tr>\n",
       "    <tr>\n",
       "      <th>room_type</th>\n",
       "      <th>Entire home/apt</th>\n",
       "      <th>Private room</th>\n",
       "      <th>Shared room</th>\n",
       "    </tr>\n",
       "    <tr>\n",
       "      <th>neighbourhood_group</th>\n",
       "      <th></th>\n",
       "      <th></th>\n",
       "      <th></th>\n",
       "    </tr>\n",
       "  </thead>\n",
       "  <tbody>\n",
       "    <tr>\n",
       "      <th>Bronx</th>\n",
       "      <td>113.682759</td>\n",
       "      <td>63.500000</td>\n",
       "      <td>46.962963</td>\n",
       "    </tr>\n",
       "    <tr>\n",
       "      <th>Brooklyn</th>\n",
       "      <td>151.030900</td>\n",
       "      <td>70.548792</td>\n",
       "      <td>48.940789</td>\n",
       "    </tr>\n",
       "    <tr>\n",
       "      <th>Manhattan</th>\n",
       "      <td>186.170467</td>\n",
       "      <td>99.108613</td>\n",
       "      <td>76.405556</td>\n",
       "    </tr>\n",
       "    <tr>\n",
       "      <th>Queens</th>\n",
       "      <td>132.074246</td>\n",
       "      <td>65.741750</td>\n",
       "      <td>51.280000</td>\n",
       "    </tr>\n",
       "    <tr>\n",
       "      <th>Staten Island</th>\n",
       "      <td>122.544118</td>\n",
       "      <td>61.977011</td>\n",
       "      <td>55.500000</td>\n",
       "    </tr>\n",
       "  </tbody>\n",
       "</table>\n",
       "</div>"
      ],
      "text/plain": [
       "                              price                         \n",
       "room_type           Entire home/apt Private room Shared room\n",
       "neighbourhood_group                                         \n",
       "Bronx                    113.682759    63.500000   46.962963\n",
       "Brooklyn                 151.030900    70.548792   48.940789\n",
       "Manhattan                186.170467    99.108613   76.405556\n",
       "Queens                   132.074246    65.741750   51.280000\n",
       "Staten Island            122.544118    61.977011   55.500000"
      ]
     },
     "execution_count": 145,
     "metadata": {},
     "output_type": "execute_result"
    }
   ],
   "source": [
    "df_pivot = df_grp.pivot(index='neighbourhood_group',columns='room_type')\n",
    "df_pivot"
   ]
  },
  {
   "cell_type": "code",
   "execution_count": 146,
   "id": "bf31ba9c",
   "metadata": {
    "scrolled": true
   },
   "outputs": [
    {
     "data": {
      "text/plain": [
       "<AxesSubplot:xlabel='None-room_type', ylabel='neighbourhood_group'>"
      ]
     },
     "execution_count": 146,
     "metadata": {},
     "output_type": "execute_result"
    },
    {
     "data": {
      "image/png": "[encoded data removed]",
      "text/plain": [
       "<Figure size 432x288 with 2 Axes>"
      ]
     },
     "metadata": {},
     "output_type": "display_data"
    }
   ],
   "source": [
    "sns.heatmap(df_pivot)"
   ]
  },
  {
   "cell_type": "code",
   "execution_count": 147,
   "id": "81aaefe2",
   "metadata": {
    "scrolled": true
   },
   "outputs": [
    {
     "data": {
      "text/plain": [
       "<AxesSubplot:xlabel='minimum_nights', ylabel='price'>"
      ]
     },
     "execution_count": 147,
     "metadata": {},
     "output_type": "execute_result"
    },
    {
     "data": {
      "image/png": "[encoded data removed]",
      "text/plain": [
       "<Figure size 432x288 with 1 Axes>"
      ]
     },
     "metadata": {},
     "output_type": "display_data"
    }
   ],
   "source": [
    "# check correlation 'minimum_nights', ylabel='price'\n",
    "sns.regplot(x=\"minimum_nights\",y=\"price\", data=df)"
   ]
  },
  {
   "cell_type": "code",
   "execution_count": 148,
   "id": "4d02282d",
   "metadata": {},
   "outputs": [
    {
     "data": {
      "text/plain": [
       "<AxesSubplot:xlabel='minimum_nights', ylabel='price'>"
      ]
     },
     "execution_count": 148,
     "metadata": {},
     "output_type": "execute_result"
    },
    {
     "data": {
      "image/png": "[encoded data removed]",
      "text/plain": [
       "<Figure size 432x288 with 1 Axes>"
      ]
     },
     "metadata": {},
     "output_type": "display_data"
    }
   ],
   "source": [
    "# outliers - reduce min_nights range\n",
    "min_nights = 30\n",
    "idx = df['minimum_nights']<min_nights\n",
    "df_min_nights = df[idx].copy()\n",
    "sns.regplot(x=\"minimum_nights\",y=\"price\", data=df_min_nights)"
   ]
  },
  {
   "cell_type": "code",
   "execution_count": 149,
   "id": "b85db05a",
   "metadata": {
    "scrolled": true
   },
   "outputs": [
    {
     "data": {
      "text/html": [
       "<div>\n",
       "<style scoped>\n",
       "    .dataframe tbody tr th:only-of-type {\n",
       "        vertical-align: middle;\n",
       "    }\n",
       "\n",
       "    .dataframe tbody tr th {\n",
       "        vertical-align: top;\n",
       "    }\n",
       "\n",
       "    .dataframe thead tr th {\n",
       "        text-align: left;\n",
       "    }\n",
       "\n",
       "    .dataframe thead tr:last-of-type th {\n",
       "        text-align: right;\n",
       "    }\n",
       "</style>\n",
       "<table border=\"1\" class=\"dataframe\">\n",
       "  <thead>\n",
       "    <tr>\n",
       "      <th></th>\n",
       "      <th colspan=\"21\" halign=\"left\">price</th>\n",
       "    </tr>\n",
       "    <tr>\n",
       "      <th>minimum_nights</th>\n",
       "      <th>1</th>\n",
       "      <th>2</th>\n",
       "      <th>3</th>\n",
       "      <th>4</th>\n",
       "      <th>5</th>\n",
       "      <th>6</th>\n",
       "      <th>7</th>\n",
       "      <th>8</th>\n",
       "      <th>9</th>\n",
       "      <th>10</th>\n",
       "      <th>...</th>\n",
       "      <th>20</th>\n",
       "      <th>21</th>\n",
       "      <th>22</th>\n",
       "      <th>23</th>\n",
       "      <th>24</th>\n",
       "      <th>25</th>\n",
       "      <th>26</th>\n",
       "      <th>27</th>\n",
       "      <th>28</th>\n",
       "      <th>29</th>\n",
       "    </tr>\n",
       "    <tr>\n",
       "      <th>room_type</th>\n",
       "      <th></th>\n",
       "      <th></th>\n",
       "      <th></th>\n",
       "      <th></th>\n",
       "      <th></th>\n",
       "      <th></th>\n",
       "      <th></th>\n",
       "      <th></th>\n",
       "      <th></th>\n",
       "      <th></th>\n",
       "      <th></th>\n",
       "      <th></th>\n",
       "      <th></th>\n",
       "      <th></th>\n",
       "      <th></th>\n",
       "      <th></th>\n",
       "      <th></th>\n",
       "      <th></th>\n",
       "      <th></th>\n",
       "      <th></th>\n",
       "      <th></th>\n",
       "    </tr>\n",
       "  </thead>\n",
       "  <tbody>\n",
       "    <tr>\n",
       "      <th>Entire home/apt</th>\n",
       "      <td>160.667093</td>\n",
       "      <td>169.512236</td>\n",
       "      <td>167.883616</td>\n",
       "      <td>167.448408</td>\n",
       "      <td>159.746894</td>\n",
       "      <td>163.023256</td>\n",
       "      <td>162.166667</td>\n",
       "      <td>141.606061</td>\n",
       "      <td>146.850000</td>\n",
       "      <td>160.725000</td>\n",
       "      <td>...</td>\n",
       "      <td>133.021277</td>\n",
       "      <td>122.761905</td>\n",
       "      <td>NaN</td>\n",
       "      <td>NaN</td>\n",
       "      <td>75.0</td>\n",
       "      <td>143.500000</td>\n",
       "      <td>138.333333</td>\n",
       "      <td>141.666667</td>\n",
       "      <td>151.413793</td>\n",
       "      <td>182.365217</td>\n",
       "    </tr>\n",
       "    <tr>\n",
       "      <th>Private room</th>\n",
       "      <td>82.567030</td>\n",
       "      <td>81.248004</td>\n",
       "      <td>84.860917</td>\n",
       "      <td>80.352423</td>\n",
       "      <td>76.956067</td>\n",
       "      <td>70.946903</td>\n",
       "      <td>70.460526</td>\n",
       "      <td>71.631579</td>\n",
       "      <td>68.153846</td>\n",
       "      <td>69.282609</td>\n",
       "      <td>...</td>\n",
       "      <td>60.372549</td>\n",
       "      <td>64.806452</td>\n",
       "      <td>80.0</td>\n",
       "      <td>66.5</td>\n",
       "      <td>64.5</td>\n",
       "      <td>66.526316</td>\n",
       "      <td>55.000000</td>\n",
       "      <td>50.000000</td>\n",
       "      <td>66.970588</td>\n",
       "      <td>38.250000</td>\n",
       "    </tr>\n",
       "    <tr>\n",
       "      <th>Shared room</th>\n",
       "      <td>68.345133</td>\n",
       "      <td>54.594937</td>\n",
       "      <td>73.827586</td>\n",
       "      <td>66.642857</td>\n",
       "      <td>43.388889</td>\n",
       "      <td>NaN</td>\n",
       "      <td>55.200000</td>\n",
       "      <td>NaN</td>\n",
       "      <td>28.000000</td>\n",
       "      <td>48.166667</td>\n",
       "      <td>...</td>\n",
       "      <td>26.000000</td>\n",
       "      <td>NaN</td>\n",
       "      <td>NaN</td>\n",
       "      <td>NaN</td>\n",
       "      <td>NaN</td>\n",
       "      <td>30.000000</td>\n",
       "      <td>NaN</td>\n",
       "      <td>NaN</td>\n",
       "      <td>NaN</td>\n",
       "      <td>NaN</td>\n",
       "    </tr>\n",
       "  </tbody>\n",
       "</table>\n",
       "<p>3 rows × 29 columns</p>\n",
       "</div>"
      ],
      "text/plain": [
       "                      price                                                  \\\n",
       "minimum_nights           1           2           3           4           5    \n",
       "room_type                                                                     \n",
       "Entire home/apt  160.667093  169.512236  167.883616  167.448408  159.746894   \n",
       "Private room      82.567030   81.248004   84.860917   80.352423   76.956067   \n",
       "Shared room       68.345133   54.594937   73.827586   66.642857   43.388889   \n",
       "\n",
       "                                                                             \\\n",
       "minimum_nights           6           7           8           9           10   \n",
       "room_type                                                                     \n",
       "Entire home/apt  163.023256  162.166667  141.606061  146.850000  160.725000   \n",
       "Private room      70.946903   70.460526   71.631579   68.153846   69.282609   \n",
       "Shared room             NaN   55.200000         NaN   28.000000   48.166667   \n",
       "\n",
       "                 ...                                                        \\\n",
       "minimum_nights   ...          20          21    22    23    24          25   \n",
       "room_type        ...                                                         \n",
       "Entire home/apt  ...  133.021277  122.761905   NaN   NaN  75.0  143.500000   \n",
       "Private room     ...   60.372549   64.806452  80.0  66.5  64.5   66.526316   \n",
       "Shared room      ...   26.000000         NaN   NaN   NaN   NaN   30.000000   \n",
       "\n",
       "                                                                 \n",
       "minimum_nights           26          27          28          29  \n",
       "room_type                                                        \n",
       "Entire home/apt  138.333333  141.666667  151.413793  182.365217  \n",
       "Private room      55.000000   50.000000   66.970588   38.250000  \n",
       "Shared room             NaN         NaN         NaN         NaN  \n",
       "\n",
       "[3 rows x 29 columns]"
      ]
     },
     "execution_count": 149,
     "metadata": {},
     "output_type": "execute_result"
    }
   ],
   "source": [
    "df_grp2 = df_min_nights[['minimum_nights','room_type','price']]\n",
    "df_grp2 = df_grp2.groupby(['minimum_nights','room_type'],as_index=False).mean()\n",
    "df_grp2\n",
    "\n",
    "df_pivot2 = df_grp2.pivot(index='room_type',columns='minimum_nights')\n",
    "df_pivot2"
   ]
  },
  {
   "cell_type": "code",
   "execution_count": 150,
   "id": "0eb879aa",
   "metadata": {},
   "outputs": [
    {
     "data": {
      "text/html": [
       "<div>\n",
       "<style scoped>\n",
       "    .dataframe tbody tr th:only-of-type {\n",
       "        vertical-align: middle;\n",
       "    }\n",
       "\n",
       "    .dataframe tbody tr th {\n",
       "        vertical-align: top;\n",
       "    }\n",
       "\n",
       "    .dataframe thead th {\n",
       "        text-align: right;\n",
       "    }\n",
       "</style>\n",
       "<table border=\"1\" class=\"dataframe\">\n",
       "  <thead>\n",
       "    <tr style=\"text-align: right;\">\n",
       "      <th></th>\n",
       "      <th>id</th>\n",
       "      <th>name</th>\n",
       "      <th>host_id</th>\n",
       "      <th>host_name</th>\n",
       "      <th>neighbourhood_group</th>\n",
       "      <th>neighbourhood</th>\n",
       "      <th>latitude</th>\n",
       "      <th>longitude</th>\n",
       "      <th>room_type</th>\n",
       "      <th>price</th>\n",
       "      <th>minimum_nights</th>\n",
       "      <th>number_of_reviews</th>\n",
       "      <th>last_review</th>\n",
       "      <th>reviews_per_month</th>\n",
       "      <th>calculated_host_listings_count</th>\n",
       "      <th>availability_365</th>\n",
       "    </tr>\n",
       "  </thead>\n",
       "  <tbody>\n",
       "  </tbody>\n",
       "</table>\n",
       "</div>"
      ],
      "text/plain": [
       "Empty DataFrame\n",
       "Columns: [id, name, host_id, host_name, neighbourhood_group, neighbourhood, latitude, longitude, room_type, price, minimum_nights, number_of_reviews, last_review, reviews_per_month, calculated_host_listings_count, availability_365]\n",
       "Index: []"
      ]
     },
     "execution_count": 150,
     "metadata": {},
     "output_type": "execute_result"
    }
   ],
   "source": [
    "# Compare / check cleaned_data\n",
    "local_path_clean = wandb.use_artifact(\"cleaned_data.csv:latest\").file()\n",
    "df_clean = pd.read_csv(local_path_clean)\n",
    "df_clean[df_clean['name'].isnull()]"
   ]
  },
  {
   "cell_type": "code",
   "execution_count": 151,
   "id": "463720f1",
   "metadata": {},
   "outputs": [
    {
     "data": {
      "application/vnd.jupyter.widget-view+json": {
       "model_id": "67fa08f43ed34fceb6f37748a0c435b2",
       "version_major": 2,
       "version_minor": 0
      },
      "text/plain": [
       "Summarize dataset:   0%|          | 0/29 [00:00<?, ?it/s]"
      ]
     },
     "metadata": {},
     "output_type": "display_data"
    },
    {
     "data": {
      "application/vnd.jupyter.widget-view+json": {
       "model_id": "27a0716cf3bc456daeaae10ae23b1921",
       "version_major": 2,
       "version_minor": 0
      },
      "text/plain": [
       "Generate report structure:   0%|          | 0/1 [00:00<?, ?it/s]"
      ]
     },
     "metadata": {},
     "output_type": "display_data"
    },
    {
     "data": {
      "application/vnd.jupyter.widget-view+json": {
       "model_id": "",
       "version_major": 2,
       "version_minor": 0
      },
      "text/plain": [
       "Render widgets:   0%|          | 0/1 [00:00<?, ?it/s]"
      ]
     },
     "metadata": {},
     "output_type": "display_data"
    },
    {
     "data": {
      "application/vnd.jupyter.widget-view+json": {
       "model_id": "87a8789eb1a34996956191eafe38ae4a",
       "version_major": 2,
       "version_minor": 0
      },
      "text/plain": [
       "VBox(children=(Tab(children=(Tab(children=(GridBox(children=(VBox(children=(GridspecLayout(children=(HTML(valu…"
      ]
     },
     "metadata": {},
     "output_type": "display_data"
    }
   ],
   "source": [
    "profile = pandas_profiling.ProfileReport(df_clean)\n",
    "profile.to_widgets()"
   ]
  },
  {
   "cell_type": "code",
   "execution_count": 152,
   "id": "da8fd674",
   "metadata": {},
   "outputs": [
    {
     "data": {
      "text/html": [
       "<br/>Waiting for W&B process to finish, PID 90775<br/>Program ended successfully."
      ],
      "text/plain": [
       "<IPython.core.display.HTML object>"
      ]
     },
     "metadata": {},
     "output_type": "display_data"
    },
    {
     "data": {
      "application/vnd.jupyter.widget-view+json": {
       "model_id": "",
       "version_major": 2,
       "version_minor": 0
      },
      "text/plain": [
       "VBox(children=(Label(value=' 0.02MB of 0.02MB uploaded (0.00MB deduped)\\r'), FloatProgress(value=1.0, max=1.0)…"
      ]
     },
     "metadata": {},
     "output_type": "display_data"
    },
    {
     "data": {
      "text/html": [
       "Find user logs for this run at: <code>/Users/oliver/Development/nd0821-c2-build-model-workflow-starter/src/eda/wandb/run-20220124_210646-3jz6re27/logs/debug.log</code>"
      ],
      "text/plain": [
       "<IPython.core.display.HTML object>"
      ]
     },
     "metadata": {},
     "output_type": "display_data"
    },
    {
     "data": {
      "text/html": [
       "Find internal logs for this run at: <code>/Users/oliver/Development/nd0821-c2-build-model-workflow-starter/src/eda/wandb/run-20220124_210646-3jz6re27/logs/debug-internal.log</code>"
      ],
      "text/plain": [
       "<IPython.core.display.HTML object>"
      ]
     },
     "metadata": {},
     "output_type": "display_data"
    },
    {
     "data": {
      "text/html": [
       "Synced 7 W&B file(s), 0 media file(s), 0 artifact file(s) and 0 other file(s)"
      ],
      "text/plain": [
       "<IPython.core.display.HTML object>"
      ]
     },
     "metadata": {},
     "output_type": "display_data"
    },
    {
     "data": {
      "text/html": [
       "\n",
       "                    <br/>Synced <strong style=\"color:#cdcd00\">quiet-valley-176</strong>: <a href=\"https://wandb.ai/kangaroo98/nyc_airbnb/runs/3jz6re27\" target=\"_blank\">https://wandb.ai/kangaroo98/nyc_airbnb/runs/3jz6re27</a><br/>\n",
       "                "
      ],
      "text/plain": [
       "<IPython.core.display.HTML object>"
      ]
     },
     "metadata": {},
     "output_type": "display_data"
    }
   ],
   "source": [
    "run.finish()"
   ]
  },
  {
   "cell_type": "code",
   "execution_count": null,
   "id": "f3f83bdd",
   "metadata": {},
   "outputs": [],
   "source": []
  }
 ],
 "metadata": {
  "kernelspec": {
   "display_name": "Python 3 (ipykernel)",
   "language": "python",
   "name": "python3"
  },
  "language_info": {
   "codemirror_mode": {
    "name": "ipython",
    "version": 3
   },
   "file_extension": ".py",
   "mimetype": "text/x-python",
   "name": "python",
   "nbconvert_exporter": "python",
   "pygments_lexer": "ipython3",
   "version": "3.9.9"
  }
 },
 "nbformat": 4,
 "nbformat_minor": 5
}
